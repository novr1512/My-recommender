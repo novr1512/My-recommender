{
  "cells": [
    {
      "cell_type": "markdown",
      "metadata": {
        "id": "JLC8qxCG6WqG"
      },
      "source": [
        "# Movies dataset\n",
        "\n",
        "This project aims to recommend movies to users based on other users' ratings and tag similarity \n",
        "\n",
        "## About the dataset\n",
        "This dataset (ml-25m) describes 5-star rating from MovieLens. It contains 25000095 ratings and 1093360 tag applications across 62423 movies. These data were created by 162541 users between January 09, 1995 and November 21, 2019. This dataset was generated on November 21, 2019.\n",
        "\n",
        "it contains 4 files, which are :\n",
        "- movies \n",
        "- ratings\n",
        "- genome-tags\n",
        "- genome-scores"
      ]
    },
    {
      "cell_type": "markdown",
      "metadata": {
        "id": "6c-QUPI26Wqa"
      },
      "source": [
        "---\n",
        "#### Step 1 : set up "
      ]
    },
    {
      "cell_type": "code",
      "execution_count": null,
      "metadata": {
        "id": "VuHC6URm6Wqf"
      },
      "outputs": [],
      "source": [
        "%%capture\n",
        "\n",
        "# data management\n",
        "! pip install -U pandas\n",
        "! pip install -U numpy\n",
        "\n",
        "# data visualization\n",
        "! pip install -U matplotlib\n",
        "! pip install -U plotnine\n",
        "\n",
        "# modeling\n",
        "! pip install -U scikit-learn\n",
        "\n"
      ]
    },
    {
      "cell_type": "code",
      "source": [
        "! pip uninstall matplotlib\n",
        "! pip install matplotlib==3.1.3"
      ],
      "metadata": {
        "id": "AyRwvMlLc4V3"
      },
      "execution_count": null,
      "outputs": []
    },
    {
      "cell_type": "code",
      "execution_count": null,
      "metadata": {
        "id": "HKSlrId76Wqo"
      },
      "outputs": [],
      "source": [
        "! pip install mxnet\n",
        "#! pip install graphviz\n",
        "! pip install -U d2l\n",
        "! pip install implicit\n",
        "! pip install recmetrics\n",
        "! pip install ml_metrics"
      ]
    },
    {
      "cell_type": "markdown",
      "metadata": {
        "id": "JHffw4ky6Wqt"
      },
      "source": [
        "import libraries"
      ]
    },
    {
      "cell_type": "code",
      "execution_count": 86,
      "metadata": {
        "id": "J3OS62jm6Wqu"
      },
      "outputs": [],
      "source": [
        "import os\n",
        "from mxnet import gluon, np\n",
        "import pandas as pd\n",
        "from d2l import mxnet as d2l\n",
        "import sys\n",
        "import numpy as np\n",
        "import scipy.sparse as sparse\n",
        "from scipy.sparse.linalg import spsolve\n",
        "import random\n",
        "import implicit \n",
        "from sklearn.model_selection import train_test_split, KFold, RepeatedKFold, cross_val_score\n",
        "import recmetrics\n",
        "from pandas.core.dtypes.inference import is_dict_like\n",
        "import matplotlib.pyplot as plt\n",
        "import ml_metrics as metrics\n",
        "from sklearn.ensemble import GradientBoostingRegressor\n",
        "from sklearn.model_selection import cross_val_score\n",
        "from skopt import gp_minimize\n"
      ]
    },
    {
      "cell_type": "markdown",
      "source": [
        "import data from google drive"
      ],
      "metadata": {
        "id": "5qJhGCSiwX7K"
      }
    },
    {
      "cell_type": "code",
      "source": [
        "from google.colab import drive\n",
        "drive.mount('/content/drive')"
      ],
      "metadata": {
        "colab": {
          "base_uri": "https://localhost:8080/"
        },
        "id": "DOCJWwz5H8At",
        "outputId": "aac8ba71-4991-401d-922b-bd658ebb54d4"
      },
      "execution_count": 4,
      "outputs": [
        {
          "output_type": "stream",
          "name": "stdout",
          "text": [
            "Mounted at /content/drive\n"
          ]
        }
      ]
    },
    {
      "cell_type": "markdown",
      "metadata": {
        "id": "sAJbZ22Z6Wqw"
      },
      "source": [
        "---\n",
        "#### Step 2 : upload files"
      ]
    },
    {
      "cell_type": "markdown",
      "metadata": {
        "id": "kxwlFKRm6Wq2"
      },
      "source": [
        "movies file contain info about 62423 movies,\n",
        "- movieId : unique identifer across files\n",
        "- title : movie title\n",
        "- genres : pipe-separated list of movie genres"
      ]
    },
    {
      "cell_type": "code",
      "execution_count": 5,
      "metadata": {
        "id": "Z1e0j1bV6Wqy"
      },
      "outputs": [],
      "source": [
        "movies=pd.read_csv('/content/drive/MyDrive/data/movies.csv')"
      ]
    },
    {
      "cell_type": "code",
      "execution_count": 6,
      "metadata": {
        "id": "9DD7cE2k6Wq0",
        "outputId": "0ebec833-fbb4-4b31-faee-681a452bc6a0",
        "colab": {
          "base_uri": "https://localhost:8080/",
          "height": 206
        }
      },
      "outputs": [
        {
          "output_type": "execute_result",
          "data": {
            "text/html": [
              "\n",
              "  <div id=\"df-e01dd5d9-bd86-4970-abc3-a7f794fe0151\">\n",
              "    <div class=\"colab-df-container\">\n",
              "      <div>\n",
              "<style scoped>\n",
              "    .dataframe tbody tr th:only-of-type {\n",
              "        vertical-align: middle;\n",
              "    }\n",
              "\n",
              "    .dataframe tbody tr th {\n",
              "        vertical-align: top;\n",
              "    }\n",
              "\n",
              "    .dataframe thead th {\n",
              "        text-align: right;\n",
              "    }\n",
              "</style>\n",
              "<table border=\"1\" class=\"dataframe\">\n",
              "  <thead>\n",
              "    <tr style=\"text-align: right;\">\n",
              "      <th></th>\n",
              "      <th>movieId</th>\n",
              "      <th>title</th>\n",
              "      <th>genres</th>\n",
              "    </tr>\n",
              "  </thead>\n",
              "  <tbody>\n",
              "    <tr>\n",
              "      <th>0</th>\n",
              "      <td>1</td>\n",
              "      <td>Toy Story (1995)</td>\n",
              "      <td>Adventure|Animation|Children|Comedy|Fantasy</td>\n",
              "    </tr>\n",
              "    <tr>\n",
              "      <th>1</th>\n",
              "      <td>2</td>\n",
              "      <td>Jumanji (1995)</td>\n",
              "      <td>Adventure|Children|Fantasy</td>\n",
              "    </tr>\n",
              "    <tr>\n",
              "      <th>2</th>\n",
              "      <td>3</td>\n",
              "      <td>Grumpier Old Men (1995)</td>\n",
              "      <td>Comedy|Romance</td>\n",
              "    </tr>\n",
              "    <tr>\n",
              "      <th>3</th>\n",
              "      <td>4</td>\n",
              "      <td>Waiting to Exhale (1995)</td>\n",
              "      <td>Comedy|Drama|Romance</td>\n",
              "    </tr>\n",
              "    <tr>\n",
              "      <th>4</th>\n",
              "      <td>5</td>\n",
              "      <td>Father of the Bride Part II (1995)</td>\n",
              "      <td>Comedy</td>\n",
              "    </tr>\n",
              "  </tbody>\n",
              "</table>\n",
              "</div>\n",
              "      <button class=\"colab-df-convert\" onclick=\"convertToInteractive('df-e01dd5d9-bd86-4970-abc3-a7f794fe0151')\"\n",
              "              title=\"Convert this dataframe to an interactive table.\"\n",
              "              style=\"display:none;\">\n",
              "        \n",
              "  <svg xmlns=\"http://www.w3.org/2000/svg\" height=\"24px\"viewBox=\"0 0 24 24\"\n",
              "       width=\"24px\">\n",
              "    <path d=\"M0 0h24v24H0V0z\" fill=\"none\"/>\n",
              "    <path d=\"M18.56 5.44l.94 2.06.94-2.06 2.06-.94-2.06-.94-.94-2.06-.94 2.06-2.06.94zm-11 1L8.5 8.5l.94-2.06 2.06-.94-2.06-.94L8.5 2.5l-.94 2.06-2.06.94zm10 10l.94 2.06.94-2.06 2.06-.94-2.06-.94-.94-2.06-.94 2.06-2.06.94z\"/><path d=\"M17.41 7.96l-1.37-1.37c-.4-.4-.92-.59-1.43-.59-.52 0-1.04.2-1.43.59L10.3 9.45l-7.72 7.72c-.78.78-.78 2.05 0 2.83L4 21.41c.39.39.9.59 1.41.59.51 0 1.02-.2 1.41-.59l7.78-7.78 2.81-2.81c.8-.78.8-2.07 0-2.86zM5.41 20L4 18.59l7.72-7.72 1.47 1.35L5.41 20z\"/>\n",
              "  </svg>\n",
              "      </button>\n",
              "      \n",
              "  <style>\n",
              "    .colab-df-container {\n",
              "      display:flex;\n",
              "      flex-wrap:wrap;\n",
              "      gap: 12px;\n",
              "    }\n",
              "\n",
              "    .colab-df-convert {\n",
              "      background-color: #E8F0FE;\n",
              "      border: none;\n",
              "      border-radius: 50%;\n",
              "      cursor: pointer;\n",
              "      display: none;\n",
              "      fill: #1967D2;\n",
              "      height: 32px;\n",
              "      padding: 0 0 0 0;\n",
              "      width: 32px;\n",
              "    }\n",
              "\n",
              "    .colab-df-convert:hover {\n",
              "      background-color: #E2EBFA;\n",
              "      box-shadow: 0px 1px 2px rgba(60, 64, 67, 0.3), 0px 1px 3px 1px rgba(60, 64, 67, 0.15);\n",
              "      fill: #174EA6;\n",
              "    }\n",
              "\n",
              "    [theme=dark] .colab-df-convert {\n",
              "      background-color: #3B4455;\n",
              "      fill: #D2E3FC;\n",
              "    }\n",
              "\n",
              "    [theme=dark] .colab-df-convert:hover {\n",
              "      background-color: #434B5C;\n",
              "      box-shadow: 0px 1px 3px 1px rgba(0, 0, 0, 0.15);\n",
              "      filter: drop-shadow(0px 1px 2px rgba(0, 0, 0, 0.3));\n",
              "      fill: #FFFFFF;\n",
              "    }\n",
              "  </style>\n",
              "\n",
              "      <script>\n",
              "        const buttonEl =\n",
              "          document.querySelector('#df-e01dd5d9-bd86-4970-abc3-a7f794fe0151 button.colab-df-convert');\n",
              "        buttonEl.style.display =\n",
              "          google.colab.kernel.accessAllowed ? 'block' : 'none';\n",
              "\n",
              "        async function convertToInteractive(key) {\n",
              "          const element = document.querySelector('#df-e01dd5d9-bd86-4970-abc3-a7f794fe0151');\n",
              "          const dataTable =\n",
              "            await google.colab.kernel.invokeFunction('convertToInteractive',\n",
              "                                                     [key], {});\n",
              "          if (!dataTable) return;\n",
              "\n",
              "          const docLinkHtml = 'Like what you see? Visit the ' +\n",
              "            '<a target=\"_blank\" href=https://colab.research.google.com/notebooks/data_table.ipynb>data table notebook</a>'\n",
              "            + ' to learn more about interactive tables.';\n",
              "          element.innerHTML = '';\n",
              "          dataTable['output_type'] = 'display_data';\n",
              "          await google.colab.output.renderOutput(dataTable, element);\n",
              "          const docLink = document.createElement('div');\n",
              "          docLink.innerHTML = docLinkHtml;\n",
              "          element.appendChild(docLink);\n",
              "        }\n",
              "      </script>\n",
              "    </div>\n",
              "  </div>\n",
              "  "
            ],
            "text/plain": [
              "   movieId                               title  \\\n",
              "0        1                    Toy Story (1995)   \n",
              "1        2                      Jumanji (1995)   \n",
              "2        3             Grumpier Old Men (1995)   \n",
              "3        4            Waiting to Exhale (1995)   \n",
              "4        5  Father of the Bride Part II (1995)   \n",
              "\n",
              "                                        genres  \n",
              "0  Adventure|Animation|Children|Comedy|Fantasy  \n",
              "1                   Adventure|Children|Fantasy  \n",
              "2                               Comedy|Romance  \n",
              "3                         Comedy|Drama|Romance  \n",
              "4                                       Comedy  "
            ]
          },
          "metadata": {},
          "execution_count": 6
        }
      ],
      "source": [
        "movies.head()"
      ]
    },
    {
      "cell_type": "markdown",
      "metadata": {
        "id": "js7oRFEi6Wq8"
      },
      "source": [
        "ratings file contain info about 25000095 ratings,\n",
        "- movieId : movie unique identifer across files\n",
        "- userId : user unique identifer across files\n",
        "- rating : user rating out of 5 stars"
      ]
    },
    {
      "cell_type": "code",
      "execution_count": 7,
      "metadata": {
        "id": "viAeCVvG6Wq4"
      },
      "outputs": [],
      "source": [
        "ratings =pd.read_csv('/content/drive/MyDrive/data/ratings.csv')"
      ]
    },
    {
      "cell_type": "code",
      "execution_count": 8,
      "metadata": {
        "id": "ZQjqCUa_6Wq6",
        "outputId": "cc87a1d8-b952-4d7b-c16a-9368c8c121d3",
        "colab": {
          "base_uri": "https://localhost:8080/",
          "height": 206
        }
      },
      "outputs": [
        {
          "output_type": "execute_result",
          "data": {
            "text/html": [
              "\n",
              "  <div id=\"df-4710ba47-4483-4724-ae6a-3d4b960281aa\">\n",
              "    <div class=\"colab-df-container\">\n",
              "      <div>\n",
              "<style scoped>\n",
              "    .dataframe tbody tr th:only-of-type {\n",
              "        vertical-align: middle;\n",
              "    }\n",
              "\n",
              "    .dataframe tbody tr th {\n",
              "        vertical-align: top;\n",
              "    }\n",
              "\n",
              "    .dataframe thead th {\n",
              "        text-align: right;\n",
              "    }\n",
              "</style>\n",
              "<table border=\"1\" class=\"dataframe\">\n",
              "  <thead>\n",
              "    <tr style=\"text-align: right;\">\n",
              "      <th></th>\n",
              "      <th>userId</th>\n",
              "      <th>movieId</th>\n",
              "      <th>rating</th>\n",
              "      <th>timestamp</th>\n",
              "    </tr>\n",
              "  </thead>\n",
              "  <tbody>\n",
              "    <tr>\n",
              "      <th>0</th>\n",
              "      <td>1</td>\n",
              "      <td>296</td>\n",
              "      <td>5.0</td>\n",
              "      <td>1147880044</td>\n",
              "    </tr>\n",
              "    <tr>\n",
              "      <th>1</th>\n",
              "      <td>1</td>\n",
              "      <td>306</td>\n",
              "      <td>3.5</td>\n",
              "      <td>1147868817</td>\n",
              "    </tr>\n",
              "    <tr>\n",
              "      <th>2</th>\n",
              "      <td>1</td>\n",
              "      <td>307</td>\n",
              "      <td>5.0</td>\n",
              "      <td>1147868828</td>\n",
              "    </tr>\n",
              "    <tr>\n",
              "      <th>3</th>\n",
              "      <td>1</td>\n",
              "      <td>665</td>\n",
              "      <td>5.0</td>\n",
              "      <td>1147878820</td>\n",
              "    </tr>\n",
              "    <tr>\n",
              "      <th>4</th>\n",
              "      <td>1</td>\n",
              "      <td>899</td>\n",
              "      <td>3.5</td>\n",
              "      <td>1147868510</td>\n",
              "    </tr>\n",
              "  </tbody>\n",
              "</table>\n",
              "</div>\n",
              "      <button class=\"colab-df-convert\" onclick=\"convertToInteractive('df-4710ba47-4483-4724-ae6a-3d4b960281aa')\"\n",
              "              title=\"Convert this dataframe to an interactive table.\"\n",
              "              style=\"display:none;\">\n",
              "        \n",
              "  <svg xmlns=\"http://www.w3.org/2000/svg\" height=\"24px\"viewBox=\"0 0 24 24\"\n",
              "       width=\"24px\">\n",
              "    <path d=\"M0 0h24v24H0V0z\" fill=\"none\"/>\n",
              "    <path d=\"M18.56 5.44l.94 2.06.94-2.06 2.06-.94-2.06-.94-.94-2.06-.94 2.06-2.06.94zm-11 1L8.5 8.5l.94-2.06 2.06-.94-2.06-.94L8.5 2.5l-.94 2.06-2.06.94zm10 10l.94 2.06.94-2.06 2.06-.94-2.06-.94-.94-2.06-.94 2.06-2.06.94z\"/><path d=\"M17.41 7.96l-1.37-1.37c-.4-.4-.92-.59-1.43-.59-.52 0-1.04.2-1.43.59L10.3 9.45l-7.72 7.72c-.78.78-.78 2.05 0 2.83L4 21.41c.39.39.9.59 1.41.59.51 0 1.02-.2 1.41-.59l7.78-7.78 2.81-2.81c.8-.78.8-2.07 0-2.86zM5.41 20L4 18.59l7.72-7.72 1.47 1.35L5.41 20z\"/>\n",
              "  </svg>\n",
              "      </button>\n",
              "      \n",
              "  <style>\n",
              "    .colab-df-container {\n",
              "      display:flex;\n",
              "      flex-wrap:wrap;\n",
              "      gap: 12px;\n",
              "    }\n",
              "\n",
              "    .colab-df-convert {\n",
              "      background-color: #E8F0FE;\n",
              "      border: none;\n",
              "      border-radius: 50%;\n",
              "      cursor: pointer;\n",
              "      display: none;\n",
              "      fill: #1967D2;\n",
              "      height: 32px;\n",
              "      padding: 0 0 0 0;\n",
              "      width: 32px;\n",
              "    }\n",
              "\n",
              "    .colab-df-convert:hover {\n",
              "      background-color: #E2EBFA;\n",
              "      box-shadow: 0px 1px 2px rgba(60, 64, 67, 0.3), 0px 1px 3px 1px rgba(60, 64, 67, 0.15);\n",
              "      fill: #174EA6;\n",
              "    }\n",
              "\n",
              "    [theme=dark] .colab-df-convert {\n",
              "      background-color: #3B4455;\n",
              "      fill: #D2E3FC;\n",
              "    }\n",
              "\n",
              "    [theme=dark] .colab-df-convert:hover {\n",
              "      background-color: #434B5C;\n",
              "      box-shadow: 0px 1px 3px 1px rgba(0, 0, 0, 0.15);\n",
              "      filter: drop-shadow(0px 1px 2px rgba(0, 0, 0, 0.3));\n",
              "      fill: #FFFFFF;\n",
              "    }\n",
              "  </style>\n",
              "\n",
              "      <script>\n",
              "        const buttonEl =\n",
              "          document.querySelector('#df-4710ba47-4483-4724-ae6a-3d4b960281aa button.colab-df-convert');\n",
              "        buttonEl.style.display =\n",
              "          google.colab.kernel.accessAllowed ? 'block' : 'none';\n",
              "\n",
              "        async function convertToInteractive(key) {\n",
              "          const element = document.querySelector('#df-4710ba47-4483-4724-ae6a-3d4b960281aa');\n",
              "          const dataTable =\n",
              "            await google.colab.kernel.invokeFunction('convertToInteractive',\n",
              "                                                     [key], {});\n",
              "          if (!dataTable) return;\n",
              "\n",
              "          const docLinkHtml = 'Like what you see? Visit the ' +\n",
              "            '<a target=\"_blank\" href=https://colab.research.google.com/notebooks/data_table.ipynb>data table notebook</a>'\n",
              "            + ' to learn more about interactive tables.';\n",
              "          element.innerHTML = '';\n",
              "          dataTable['output_type'] = 'display_data';\n",
              "          await google.colab.output.renderOutput(dataTable, element);\n",
              "          const docLink = document.createElement('div');\n",
              "          docLink.innerHTML = docLinkHtml;\n",
              "          element.appendChild(docLink);\n",
              "        }\n",
              "      </script>\n",
              "    </div>\n",
              "  </div>\n",
              "  "
            ],
            "text/plain": [
              "   userId  movieId  rating   timestamp\n",
              "0       1      296     5.0  1147880044\n",
              "1       1      306     3.5  1147868817\n",
              "2       1      307     5.0  1147868828\n",
              "3       1      665     5.0  1147878820\n",
              "4       1      899     3.5  1147868510"
            ]
          },
          "metadata": {},
          "execution_count": 8
        }
      ],
      "source": [
        "ratings.head()"
      ]
    },
    {
      "cell_type": "code",
      "execution_count": 9,
      "metadata": {
        "id": "2gQzSrFw6Wq7"
      },
      "outputs": [],
      "source": [
        "ratings.drop('timestamp',axis = 1 , inplace = True)"
      ]
    },
    {
      "cell_type": "markdown",
      "metadata": {
        "id": "ifwSkpYl6WrA"
      },
      "source": [
        "tags are distrbuted in 2 files:\n",
        "- genome-tags : which includes the tags id and the tag name\n",
        "- genome-scores : which includes the tage id, the movie id and the relevance between them (at scale from 0 to 1)\n"
      ]
    },
    {
      "cell_type": "code",
      "execution_count": 10,
      "metadata": {
        "id": "aGB048RK6Wq9"
      },
      "outputs": [],
      "source": [
        "scores =pd.read_csv('/content/drive/MyDrive/data/genome-scores.csv')"
      ]
    },
    {
      "cell_type": "code",
      "execution_count": 11,
      "metadata": {
        "id": "ltKHM0oF6Wq9",
        "outputId": "33047086-dff4-421c-a7d8-36a428a6c0ae",
        "colab": {
          "base_uri": "https://localhost:8080/",
          "height": 206
        }
      },
      "outputs": [
        {
          "output_type": "execute_result",
          "data": {
            "text/html": [
              "\n",
              "  <div id=\"df-be26bd56-8c40-486f-b204-19890f98c5f8\">\n",
              "    <div class=\"colab-df-container\">\n",
              "      <div>\n",
              "<style scoped>\n",
              "    .dataframe tbody tr th:only-of-type {\n",
              "        vertical-align: middle;\n",
              "    }\n",
              "\n",
              "    .dataframe tbody tr th {\n",
              "        vertical-align: top;\n",
              "    }\n",
              "\n",
              "    .dataframe thead th {\n",
              "        text-align: right;\n",
              "    }\n",
              "</style>\n",
              "<table border=\"1\" class=\"dataframe\">\n",
              "  <thead>\n",
              "    <tr style=\"text-align: right;\">\n",
              "      <th></th>\n",
              "      <th>movieId</th>\n",
              "      <th>tagId</th>\n",
              "      <th>relevance</th>\n",
              "    </tr>\n",
              "  </thead>\n",
              "  <tbody>\n",
              "    <tr>\n",
              "      <th>0</th>\n",
              "      <td>1</td>\n",
              "      <td>1</td>\n",
              "      <td>0.02875</td>\n",
              "    </tr>\n",
              "    <tr>\n",
              "      <th>1</th>\n",
              "      <td>1</td>\n",
              "      <td>2</td>\n",
              "      <td>0.02375</td>\n",
              "    </tr>\n",
              "    <tr>\n",
              "      <th>2</th>\n",
              "      <td>1</td>\n",
              "      <td>3</td>\n",
              "      <td>0.06250</td>\n",
              "    </tr>\n",
              "    <tr>\n",
              "      <th>3</th>\n",
              "      <td>1</td>\n",
              "      <td>4</td>\n",
              "      <td>0.07575</td>\n",
              "    </tr>\n",
              "    <tr>\n",
              "      <th>4</th>\n",
              "      <td>1</td>\n",
              "      <td>5</td>\n",
              "      <td>0.14075</td>\n",
              "    </tr>\n",
              "  </tbody>\n",
              "</table>\n",
              "</div>\n",
              "      <button class=\"colab-df-convert\" onclick=\"convertToInteractive('df-be26bd56-8c40-486f-b204-19890f98c5f8')\"\n",
              "              title=\"Convert this dataframe to an interactive table.\"\n",
              "              style=\"display:none;\">\n",
              "        \n",
              "  <svg xmlns=\"http://www.w3.org/2000/svg\" height=\"24px\"viewBox=\"0 0 24 24\"\n",
              "       width=\"24px\">\n",
              "    <path d=\"M0 0h24v24H0V0z\" fill=\"none\"/>\n",
              "    <path d=\"M18.56 5.44l.94 2.06.94-2.06 2.06-.94-2.06-.94-.94-2.06-.94 2.06-2.06.94zm-11 1L8.5 8.5l.94-2.06 2.06-.94-2.06-.94L8.5 2.5l-.94 2.06-2.06.94zm10 10l.94 2.06.94-2.06 2.06-.94-2.06-.94-.94-2.06-.94 2.06-2.06.94z\"/><path d=\"M17.41 7.96l-1.37-1.37c-.4-.4-.92-.59-1.43-.59-.52 0-1.04.2-1.43.59L10.3 9.45l-7.72 7.72c-.78.78-.78 2.05 0 2.83L4 21.41c.39.39.9.59 1.41.59.51 0 1.02-.2 1.41-.59l7.78-7.78 2.81-2.81c.8-.78.8-2.07 0-2.86zM5.41 20L4 18.59l7.72-7.72 1.47 1.35L5.41 20z\"/>\n",
              "  </svg>\n",
              "      </button>\n",
              "      \n",
              "  <style>\n",
              "    .colab-df-container {\n",
              "      display:flex;\n",
              "      flex-wrap:wrap;\n",
              "      gap: 12px;\n",
              "    }\n",
              "\n",
              "    .colab-df-convert {\n",
              "      background-color: #E8F0FE;\n",
              "      border: none;\n",
              "      border-radius: 50%;\n",
              "      cursor: pointer;\n",
              "      display: none;\n",
              "      fill: #1967D2;\n",
              "      height: 32px;\n",
              "      padding: 0 0 0 0;\n",
              "      width: 32px;\n",
              "    }\n",
              "\n",
              "    .colab-df-convert:hover {\n",
              "      background-color: #E2EBFA;\n",
              "      box-shadow: 0px 1px 2px rgba(60, 64, 67, 0.3), 0px 1px 3px 1px rgba(60, 64, 67, 0.15);\n",
              "      fill: #174EA6;\n",
              "    }\n",
              "\n",
              "    [theme=dark] .colab-df-convert {\n",
              "      background-color: #3B4455;\n",
              "      fill: #D2E3FC;\n",
              "    }\n",
              "\n",
              "    [theme=dark] .colab-df-convert:hover {\n",
              "      background-color: #434B5C;\n",
              "      box-shadow: 0px 1px 3px 1px rgba(0, 0, 0, 0.15);\n",
              "      filter: drop-shadow(0px 1px 2px rgba(0, 0, 0, 0.3));\n",
              "      fill: #FFFFFF;\n",
              "    }\n",
              "  </style>\n",
              "\n",
              "      <script>\n",
              "        const buttonEl =\n",
              "          document.querySelector('#df-be26bd56-8c40-486f-b204-19890f98c5f8 button.colab-df-convert');\n",
              "        buttonEl.style.display =\n",
              "          google.colab.kernel.accessAllowed ? 'block' : 'none';\n",
              "\n",
              "        async function convertToInteractive(key) {\n",
              "          const element = document.querySelector('#df-be26bd56-8c40-486f-b204-19890f98c5f8');\n",
              "          const dataTable =\n",
              "            await google.colab.kernel.invokeFunction('convertToInteractive',\n",
              "                                                     [key], {});\n",
              "          if (!dataTable) return;\n",
              "\n",
              "          const docLinkHtml = 'Like what you see? Visit the ' +\n",
              "            '<a target=\"_blank\" href=https://colab.research.google.com/notebooks/data_table.ipynb>data table notebook</a>'\n",
              "            + ' to learn more about interactive tables.';\n",
              "          element.innerHTML = '';\n",
              "          dataTable['output_type'] = 'display_data';\n",
              "          await google.colab.output.renderOutput(dataTable, element);\n",
              "          const docLink = document.createElement('div');\n",
              "          docLink.innerHTML = docLinkHtml;\n",
              "          element.appendChild(docLink);\n",
              "        }\n",
              "      </script>\n",
              "    </div>\n",
              "  </div>\n",
              "  "
            ],
            "text/plain": [
              "   movieId  tagId  relevance\n",
              "0        1      1    0.02875\n",
              "1        1      2    0.02375\n",
              "2        1      3    0.06250\n",
              "3        1      4    0.07575\n",
              "4        1      5    0.14075"
            ]
          },
          "metadata": {},
          "execution_count": 11
        }
      ],
      "source": [
        "scores.head()"
      ]
    },
    {
      "cell_type": "code",
      "execution_count": 12,
      "metadata": {
        "id": "qpUarGSh6Wq-"
      },
      "outputs": [],
      "source": [
        "tags =pd.read_csv('/content/drive/MyDrive/data/genome-tags.csv')"
      ]
    },
    {
      "cell_type": "code",
      "execution_count": 13,
      "metadata": {
        "id": "UWD1IQV_6Wq_",
        "outputId": "0428ae83-fde9-4779-9d46-f2f8fb53ca36",
        "colab": {
          "base_uri": "https://localhost:8080/",
          "height": 363
        }
      },
      "outputs": [
        {
          "output_type": "execute_result",
          "data": {
            "text/html": [
              "\n",
              "  <div id=\"df-91e467cb-0e20-421c-9a74-bd251c54b5d0\">\n",
              "    <div class=\"colab-df-container\">\n",
              "      <div>\n",
              "<style scoped>\n",
              "    .dataframe tbody tr th:only-of-type {\n",
              "        vertical-align: middle;\n",
              "    }\n",
              "\n",
              "    .dataframe tbody tr th {\n",
              "        vertical-align: top;\n",
              "    }\n",
              "\n",
              "    .dataframe thead th {\n",
              "        text-align: right;\n",
              "    }\n",
              "</style>\n",
              "<table border=\"1\" class=\"dataframe\">\n",
              "  <thead>\n",
              "    <tr style=\"text-align: right;\">\n",
              "      <th></th>\n",
              "      <th>tagId</th>\n",
              "      <th>tag</th>\n",
              "    </tr>\n",
              "  </thead>\n",
              "  <tbody>\n",
              "    <tr>\n",
              "      <th>1101</th>\n",
              "      <td>1102</td>\n",
              "      <td>wedding</td>\n",
              "    </tr>\n",
              "    <tr>\n",
              "      <th>792</th>\n",
              "      <td>793</td>\n",
              "      <td>poker</td>\n",
              "    </tr>\n",
              "    <tr>\n",
              "      <th>409</th>\n",
              "      <td>410</td>\n",
              "      <td>freedom</td>\n",
              "    </tr>\n",
              "    <tr>\n",
              "      <th>330</th>\n",
              "      <td>331</td>\n",
              "      <td>drugs</td>\n",
              "    </tr>\n",
              "    <tr>\n",
              "      <th>415</th>\n",
              "      <td>416</td>\n",
              "      <td>funniest movies</td>\n",
              "    </tr>\n",
              "    <tr>\n",
              "      <th>240</th>\n",
              "      <td>241</td>\n",
              "      <td>complex characters</td>\n",
              "    </tr>\n",
              "    <tr>\n",
              "      <th>837</th>\n",
              "      <td>838</td>\n",
              "      <td>rape</td>\n",
              "    </tr>\n",
              "    <tr>\n",
              "      <th>994</th>\n",
              "      <td>995</td>\n",
              "      <td>surreal</td>\n",
              "    </tr>\n",
              "    <tr>\n",
              "      <th>771</th>\n",
              "      <td>772</td>\n",
              "      <td>penguins</td>\n",
              "    </tr>\n",
              "    <tr>\n",
              "      <th>10</th>\n",
              "      <td>11</td>\n",
              "      <td>3d</td>\n",
              "    </tr>\n",
              "  </tbody>\n",
              "</table>\n",
              "</div>\n",
              "      <button class=\"colab-df-convert\" onclick=\"convertToInteractive('df-91e467cb-0e20-421c-9a74-bd251c54b5d0')\"\n",
              "              title=\"Convert this dataframe to an interactive table.\"\n",
              "              style=\"display:none;\">\n",
              "        \n",
              "  <svg xmlns=\"http://www.w3.org/2000/svg\" height=\"24px\"viewBox=\"0 0 24 24\"\n",
              "       width=\"24px\">\n",
              "    <path d=\"M0 0h24v24H0V0z\" fill=\"none\"/>\n",
              "    <path d=\"M18.56 5.44l.94 2.06.94-2.06 2.06-.94-2.06-.94-.94-2.06-.94 2.06-2.06.94zm-11 1L8.5 8.5l.94-2.06 2.06-.94-2.06-.94L8.5 2.5l-.94 2.06-2.06.94zm10 10l.94 2.06.94-2.06 2.06-.94-2.06-.94-.94-2.06-.94 2.06-2.06.94z\"/><path d=\"M17.41 7.96l-1.37-1.37c-.4-.4-.92-.59-1.43-.59-.52 0-1.04.2-1.43.59L10.3 9.45l-7.72 7.72c-.78.78-.78 2.05 0 2.83L4 21.41c.39.39.9.59 1.41.59.51 0 1.02-.2 1.41-.59l7.78-7.78 2.81-2.81c.8-.78.8-2.07 0-2.86zM5.41 20L4 18.59l7.72-7.72 1.47 1.35L5.41 20z\"/>\n",
              "  </svg>\n",
              "      </button>\n",
              "      \n",
              "  <style>\n",
              "    .colab-df-container {\n",
              "      display:flex;\n",
              "      flex-wrap:wrap;\n",
              "      gap: 12px;\n",
              "    }\n",
              "\n",
              "    .colab-df-convert {\n",
              "      background-color: #E8F0FE;\n",
              "      border: none;\n",
              "      border-radius: 50%;\n",
              "      cursor: pointer;\n",
              "      display: none;\n",
              "      fill: #1967D2;\n",
              "      height: 32px;\n",
              "      padding: 0 0 0 0;\n",
              "      width: 32px;\n",
              "    }\n",
              "\n",
              "    .colab-df-convert:hover {\n",
              "      background-color: #E2EBFA;\n",
              "      box-shadow: 0px 1px 2px rgba(60, 64, 67, 0.3), 0px 1px 3px 1px rgba(60, 64, 67, 0.15);\n",
              "      fill: #174EA6;\n",
              "    }\n",
              "\n",
              "    [theme=dark] .colab-df-convert {\n",
              "      background-color: #3B4455;\n",
              "      fill: #D2E3FC;\n",
              "    }\n",
              "\n",
              "    [theme=dark] .colab-df-convert:hover {\n",
              "      background-color: #434B5C;\n",
              "      box-shadow: 0px 1px 3px 1px rgba(0, 0, 0, 0.15);\n",
              "      filter: drop-shadow(0px 1px 2px rgba(0, 0, 0, 0.3));\n",
              "      fill: #FFFFFF;\n",
              "    }\n",
              "  </style>\n",
              "\n",
              "      <script>\n",
              "        const buttonEl =\n",
              "          document.querySelector('#df-91e467cb-0e20-421c-9a74-bd251c54b5d0 button.colab-df-convert');\n",
              "        buttonEl.style.display =\n",
              "          google.colab.kernel.accessAllowed ? 'block' : 'none';\n",
              "\n",
              "        async function convertToInteractive(key) {\n",
              "          const element = document.querySelector('#df-91e467cb-0e20-421c-9a74-bd251c54b5d0');\n",
              "          const dataTable =\n",
              "            await google.colab.kernel.invokeFunction('convertToInteractive',\n",
              "                                                     [key], {});\n",
              "          if (!dataTable) return;\n",
              "\n",
              "          const docLinkHtml = 'Like what you see? Visit the ' +\n",
              "            '<a target=\"_blank\" href=https://colab.research.google.com/notebooks/data_table.ipynb>data table notebook</a>'\n",
              "            + ' to learn more about interactive tables.';\n",
              "          element.innerHTML = '';\n",
              "          dataTable['output_type'] = 'display_data';\n",
              "          await google.colab.output.renderOutput(dataTable, element);\n",
              "          const docLink = document.createElement('div');\n",
              "          docLink.innerHTML = docLinkHtml;\n",
              "          element.appendChild(docLink);\n",
              "        }\n",
              "      </script>\n",
              "    </div>\n",
              "  </div>\n",
              "  "
            ],
            "text/plain": [
              "      tagId                 tag\n",
              "1101   1102             wedding\n",
              "792     793               poker\n",
              "409     410             freedom\n",
              "330     331               drugs\n",
              "415     416     funniest movies\n",
              "240     241  complex characters\n",
              "837     838                rape\n",
              "994     995             surreal\n",
              "771     772            penguins\n",
              "10       11                  3d"
            ]
          },
          "metadata": {},
          "execution_count": 13
        }
      ],
      "source": [
        "tags.sample(10)"
      ]
    },
    {
      "cell_type": "markdown",
      "source": [
        "---\n",
        "#### Step 3 : exploring"
      ],
      "metadata": {
        "id": "4Y_tVFKvxBbN"
      }
    },
    {
      "cell_type": "code",
      "execution_count": 118,
      "metadata": {
        "id": "yTjyiVMm6WrA",
        "outputId": "907775cf-3463-4499-fc99-998c2a8b6f72",
        "colab": {
          "base_uri": "https://localhost:8080/",
          "height": 295
        }
      },
      "outputs": [
        {
          "output_type": "display_data",
          "data": {
            "image/png": "[encoded data removed]",
            "text/plain": [
              "<Figure size 432x288 with 1 Axes>"
            ]
          },
          "metadata": {
            "needs_background": "light"
          }
        }
      ],
      "source": [
        "d2l.plt.hist(ratings['rating'], bins=5, ec='black')\n",
        "d2l.plt.xlabel('Rating')\n",
        "d2l.plt.ylabel('Count')\n",
        "d2l.plt.title('Distribution of Ratings in MovieLens ')\n",
        "d2l.plt.show()"
      ]
    },
    {
      "cell_type": "markdown",
      "metadata": {
        "id": "nEt9Tud26WrB"
      },
      "source": [
        "some movies have a lot of ratings and some have only 1, 75% of them have 36 ratings or less"
      ]
    },
    {
      "cell_type": "code",
      "execution_count": 15,
      "metadata": {
        "id": "m1HPR3Dk6WrC",
        "outputId": "6e6f473d-c08a-4e37-d7da-751f5046e705",
        "colab": {
          "base_uri": "https://localhost:8080/"
        }
      },
      "outputs": [
        {
          "output_type": "execute_result",
          "data": {
            "text/plain": [
              "count    59047.000000\n",
              "mean       423.393144\n",
              "std       2477.885821\n",
              "min          1.000000\n",
              "25%          2.000000\n",
              "50%          6.000000\n",
              "75%         36.000000\n",
              "max      81491.000000\n",
              "Name: movieId, dtype: float64"
            ]
          },
          "metadata": {},
          "execution_count": 15
        }
      ],
      "source": [
        "counts = ratings['movieId'].value_counts()\n",
        "counts.describe()"
      ]
    },
    {
      "cell_type": "code",
      "source": [
        "fig = plt.figure(figsize=(15, 7))\n",
        "recmetrics.long_tail_plot(df=ratings, \n",
        "             item_id_column=\"movieId\", \n",
        "             interaction_type=\"movie ratings\", \n",
        "             x_labels=False)"
      ],
      "metadata": {
        "colab": {
          "base_uri": "https://localhost:8080/",
          "height": 495
        },
        "id": "8-QRdupua_QB",
        "outputId": "217c0671-4c37-4e71-b37c-7a4010ccd8e1"
      },
      "execution_count": 119,
      "outputs": [
        {
          "output_type": "stream",
          "name": "stderr",
          "text": [
            "/usr/local/lib/python3.7/dist-packages/seaborn/_decorators.py:43: FutureWarning: Pass the following variable as a keyword arg: x. From version 0.12, the only valid positional argument will be `data`, and passing other arguments without an explicit keyword will result in an error or misinterpretation.\n",
            "  FutureWarning\n"
          ]
        },
        {
          "output_type": "display_data",
          "data": {
            "image/png": "[encoded data removed]",
            "text/plain": [
              "<Figure size 1080x504 with 1 Axes>"
            ]
          },
          "metadata": {
            "needs_background": "light"
          }
        }
      ]
    },
    {
      "cell_type": "markdown",
      "source": [
        "---\n",
        "#### Step 4 : model building"
      ],
      "metadata": {
        "id": "WDS3gukAxbfr"
      }
    },
    {
      "cell_type": "markdown",
      "metadata": {
        "id": "GRGp1c-66WrC"
      },
      "source": [
        "the project requirments :\n",
        "- the system can show search suggestion if there's more than one movie with the same name\n",
        "- the system will show the user the suggested movies based on the one they like, the recommendation will be based on other users preferances and the tag relevance between the movie and other movies\n",
        " \n",
        "it is hybird recommendation system that uses collaborative-based and content-based algorithms \n",
        "\n"
      ]
    },
    {
      "cell_type": "code",
      "execution_count": 17,
      "metadata": {
        "id": "aA40M7pF6WrE",
        "outputId": "cc43a60d-942c-4eb4-ef8c-2bd804a2cb0d",
        "colab": {
          "base_uri": "https://localhost:8080/",
          "height": 331
        }
      },
      "outputs": [
        {
          "output_type": "execute_result",
          "data": {
            "text/html": [
              "\n",
              "  <div id=\"df-397b9606-e6b4-4e42-811a-b915396c7809\">\n",
              "    <div class=\"colab-df-container\">\n",
              "      <div>\n",
              "<style scoped>\n",
              "    .dataframe tbody tr th:only-of-type {\n",
              "        vertical-align: middle;\n",
              "    }\n",
              "\n",
              "    .dataframe tbody tr th {\n",
              "        vertical-align: top;\n",
              "    }\n",
              "\n",
              "    .dataframe thead th {\n",
              "        text-align: right;\n",
              "    }\n",
              "</style>\n",
              "<table border=\"1\" class=\"dataframe\">\n",
              "  <thead>\n",
              "    <tr style=\"text-align: right;\">\n",
              "      <th></th>\n",
              "      <th>movieId</th>\n",
              "      <th>title</th>\n",
              "      <th>genres</th>\n",
              "    </tr>\n",
              "  </thead>\n",
              "  <tbody>\n",
              "    <tr>\n",
              "      <th>0</th>\n",
              "      <td>1</td>\n",
              "      <td>Toy Story (1995)</td>\n",
              "      <td>Adventure|Animation|Children|Comedy|Fantasy</td>\n",
              "    </tr>\n",
              "    <tr>\n",
              "      <th>3021</th>\n",
              "      <td>3114</td>\n",
              "      <td>Toy Story 2 (1999)</td>\n",
              "      <td>Adventure|Animation|Children|Comedy|Fantasy</td>\n",
              "    </tr>\n",
              "    <tr>\n",
              "      <th>14813</th>\n",
              "      <td>78499</td>\n",
              "      <td>Toy Story 3 (2010)</td>\n",
              "      <td>Adventure|Animation|Children|Comedy|Fantasy|IMAX</td>\n",
              "    </tr>\n",
              "    <tr>\n",
              "      <th>20497</th>\n",
              "      <td>106022</td>\n",
              "      <td>Toy Story of Terror (2013)</td>\n",
              "      <td>Animation|Children|Comedy</td>\n",
              "    </tr>\n",
              "    <tr>\n",
              "      <th>22633</th>\n",
              "      <td>115875</td>\n",
              "      <td>Toy Story Toons: Hawaiian Vacation (2011)</td>\n",
              "      <td>Adventure|Animation|Children|Comedy|Fantasy</td>\n",
              "    </tr>\n",
              "    <tr>\n",
              "      <th>22634</th>\n",
              "      <td>115879</td>\n",
              "      <td>Toy Story Toons: Small Fry (2011)</td>\n",
              "      <td>Adventure|Animation|Children|Comedy|Fantasy</td>\n",
              "    </tr>\n",
              "    <tr>\n",
              "      <th>24062</th>\n",
              "      <td>120468</td>\n",
              "      <td>Toy Story Toons: Partysaurus Rex (2012)</td>\n",
              "      <td>Animation|Children|Comedy</td>\n",
              "    </tr>\n",
              "    <tr>\n",
              "      <th>24064</th>\n",
              "      <td>120474</td>\n",
              "      <td>Toy Story That Time Forgot (2014)</td>\n",
              "      <td>Animation|Children</td>\n",
              "    </tr>\n",
              "    <tr>\n",
              "      <th>59767</th>\n",
              "      <td>201588</td>\n",
              "      <td>Toy Story 4 (2019)</td>\n",
              "      <td>Adventure|Animation|Children|Comedy</td>\n",
              "    </tr>\n",
              "  </tbody>\n",
              "</table>\n",
              "</div>\n",
              "      <button class=\"colab-df-convert\" onclick=\"convertToInteractive('df-397b9606-e6b4-4e42-811a-b915396c7809')\"\n",
              "              title=\"Convert this dataframe to an interactive table.\"\n",
              "              style=\"display:none;\">\n",
              "        \n",
              "  <svg xmlns=\"http://www.w3.org/2000/svg\" height=\"24px\"viewBox=\"0 0 24 24\"\n",
              "       width=\"24px\">\n",
              "    <path d=\"M0 0h24v24H0V0z\" fill=\"none\"/>\n",
              "    <path d=\"M18.56 5.44l.94 2.06.94-2.06 2.06-.94-2.06-.94-.94-2.06-.94 2.06-2.06.94zm-11 1L8.5 8.5l.94-2.06 2.06-.94-2.06-.94L8.5 2.5l-.94 2.06-2.06.94zm10 10l.94 2.06.94-2.06 2.06-.94-2.06-.94-.94-2.06-.94 2.06-2.06.94z\"/><path d=\"M17.41 7.96l-1.37-1.37c-.4-.4-.92-.59-1.43-.59-.52 0-1.04.2-1.43.59L10.3 9.45l-7.72 7.72c-.78.78-.78 2.05 0 2.83L4 21.41c.39.39.9.59 1.41.59.51 0 1.02-.2 1.41-.59l7.78-7.78 2.81-2.81c.8-.78.8-2.07 0-2.86zM5.41 20L4 18.59l7.72-7.72 1.47 1.35L5.41 20z\"/>\n",
              "  </svg>\n",
              "      </button>\n",
              "      \n",
              "  <style>\n",
              "    .colab-df-container {\n",
              "      display:flex;\n",
              "      flex-wrap:wrap;\n",
              "      gap: 12px;\n",
              "    }\n",
              "\n",
              "    .colab-df-convert {\n",
              "      background-color: #E8F0FE;\n",
              "      border: none;\n",
              "      border-radius: 50%;\n",
              "      cursor: pointer;\n",
              "      display: none;\n",
              "      fill: #1967D2;\n",
              "      height: 32px;\n",
              "      padding: 0 0 0 0;\n",
              "      width: 32px;\n",
              "    }\n",
              "\n",
              "    .colab-df-convert:hover {\n",
              "      background-color: #E2EBFA;\n",
              "      box-shadow: 0px 1px 2px rgba(60, 64, 67, 0.3), 0px 1px 3px 1px rgba(60, 64, 67, 0.15);\n",
              "      fill: #174EA6;\n",
              "    }\n",
              "\n",
              "    [theme=dark] .colab-df-convert {\n",
              "      background-color: #3B4455;\n",
              "      fill: #D2E3FC;\n",
              "    }\n",
              "\n",
              "    [theme=dark] .colab-df-convert:hover {\n",
              "      background-color: #434B5C;\n",
              "      box-shadow: 0px 1px 3px 1px rgba(0, 0, 0, 0.15);\n",
              "      filter: drop-shadow(0px 1px 2px rgba(0, 0, 0, 0.3));\n",
              "      fill: #FFFFFF;\n",
              "    }\n",
              "  </style>\n",
              "\n",
              "      <script>\n",
              "        const buttonEl =\n",
              "          document.querySelector('#df-397b9606-e6b4-4e42-811a-b915396c7809 button.colab-df-convert');\n",
              "        buttonEl.style.display =\n",
              "          google.colab.kernel.accessAllowed ? 'block' : 'none';\n",
              "\n",
              "        async function convertToInteractive(key) {\n",
              "          const element = document.querySelector('#df-397b9606-e6b4-4e42-811a-b915396c7809');\n",
              "          const dataTable =\n",
              "            await google.colab.kernel.invokeFunction('convertToInteractive',\n",
              "                                                     [key], {});\n",
              "          if (!dataTable) return;\n",
              "\n",
              "          const docLinkHtml = 'Like what you see? Visit the ' +\n",
              "            '<a target=\"_blank\" href=https://colab.research.google.com/notebooks/data_table.ipynb>data table notebook</a>'\n",
              "            + ' to learn more about interactive tables.';\n",
              "          element.innerHTML = '';\n",
              "          dataTable['output_type'] = 'display_data';\n",
              "          await google.colab.output.renderOutput(dataTable, element);\n",
              "          const docLink = document.createElement('div');\n",
              "          docLink.innerHTML = docLinkHtml;\n",
              "          element.appendChild(docLink);\n",
              "        }\n",
              "      </script>\n",
              "    </div>\n",
              "  </div>\n",
              "  "
            ],
            "text/plain": [
              "       movieId                                      title  \\\n",
              "0            1                           Toy Story (1995)   \n",
              "3021      3114                         Toy Story 2 (1999)   \n",
              "14813    78499                         Toy Story 3 (2010)   \n",
              "20497   106022                 Toy Story of Terror (2013)   \n",
              "22633   115875  Toy Story Toons: Hawaiian Vacation (2011)   \n",
              "22634   115879          Toy Story Toons: Small Fry (2011)   \n",
              "24062   120468    Toy Story Toons: Partysaurus Rex (2012)   \n",
              "24064   120474          Toy Story That Time Forgot (2014)   \n",
              "59767   201588                         Toy Story 4 (2019)   \n",
              "\n",
              "                                                 genres  \n",
              "0           Adventure|Animation|Children|Comedy|Fantasy  \n",
              "3021        Adventure|Animation|Children|Comedy|Fantasy  \n",
              "14813  Adventure|Animation|Children|Comedy|Fantasy|IMAX  \n",
              "20497                         Animation|Children|Comedy  \n",
              "22633       Adventure|Animation|Children|Comedy|Fantasy  \n",
              "22634       Adventure|Animation|Children|Comedy|Fantasy  \n",
              "24062                         Animation|Children|Comedy  \n",
              "24064                                Animation|Children  \n",
              "59767               Adventure|Animation|Children|Comedy  "
            ]
          },
          "metadata": {},
          "execution_count": 17
        }
      ],
      "source": [
        "#input movie\n",
        "movieName= 'Toy Story'\n",
        "movieRow = movies[movies['title'].str.contains(movieName)]\n",
        "movieRow"
      ]
    },
    {
      "cell_type": "code",
      "source": [
        "movieID = 1"
      ],
      "metadata": {
        "id": "qiIHL58Eajs_"
      },
      "execution_count": 18,
      "outputs": []
    },
    {
      "cell_type": "code",
      "execution_count": 19,
      "metadata": {
        "id": "k_AhcUD06WrG",
        "outputId": "e2f6a276-2a35-4b5e-a7ed-99071ac60507",
        "colab": {
          "base_uri": "https://localhost:8080/",
          "height": 313
        }
      },
      "outputs": [
        {
          "output_type": "stream",
          "name": "stderr",
          "text": [
            "/usr/local/lib/python3.7/dist-packages/ipykernel_launcher.py:3: SettingWithCopyWarning: \n",
            "A value is trying to be set on a copy of a slice from a DataFrame\n",
            "\n",
            "See the caveats in the documentation: https://pandas.pydata.org/pandas-docs/stable/user_guide/indexing.html#returning-a-view-versus-a-copy\n",
            "  This is separate from the ipykernel package so we can avoid doing imports until\n"
          ]
        },
        {
          "output_type": "execute_result",
          "data": {
            "text/html": [
              "\n",
              "  <div id=\"df-27682ccb-59bf-49bc-92c8-87363d537e1b\">\n",
              "    <div class=\"colab-df-container\">\n",
              "      <div>\n",
              "<style scoped>\n",
              "    .dataframe tbody tr th:only-of-type {\n",
              "        vertical-align: middle;\n",
              "    }\n",
              "\n",
              "    .dataframe tbody tr th {\n",
              "        vertical-align: top;\n",
              "    }\n",
              "\n",
              "    .dataframe thead th {\n",
              "        text-align: right;\n",
              "    }\n",
              "</style>\n",
              "<table border=\"1\" class=\"dataframe\">\n",
              "  <thead>\n",
              "    <tr style=\"text-align: right;\">\n",
              "      <th></th>\n",
              "      <th>movieId</th>\n",
              "      <th>tagId</th>\n",
              "      <th>relevance</th>\n",
              "    </tr>\n",
              "  </thead>\n",
              "  <tbody>\n",
              "    <tr>\n",
              "      <th>1035</th>\n",
              "      <td>1</td>\n",
              "      <td>1036</td>\n",
              "      <td>0.99925</td>\n",
              "    </tr>\n",
              "    <tr>\n",
              "      <th>243</th>\n",
              "      <td>1</td>\n",
              "      <td>244</td>\n",
              "      <td>0.99875</td>\n",
              "    </tr>\n",
              "    <tr>\n",
              "      <th>785</th>\n",
              "      <td>1</td>\n",
              "      <td>786</td>\n",
              "      <td>0.99575</td>\n",
              "    </tr>\n",
              "    <tr>\n",
              "      <th>588</th>\n",
              "      <td>1</td>\n",
              "      <td>589</td>\n",
              "      <td>0.98575</td>\n",
              "    </tr>\n",
              "    <tr>\n",
              "      <th>63</th>\n",
              "      <td>1</td>\n",
              "      <td>64</td>\n",
              "      <td>0.98425</td>\n",
              "    </tr>\n",
              "  </tbody>\n",
              "</table>\n",
              "</div>\n",
              "      <button class=\"colab-df-convert\" onclick=\"convertToInteractive('df-27682ccb-59bf-49bc-92c8-87363d537e1b')\"\n",
              "              title=\"Convert this dataframe to an interactive table.\"\n",
              "              style=\"display:none;\">\n",
              "        \n",
              "  <svg xmlns=\"http://www.w3.org/2000/svg\" height=\"24px\"viewBox=\"0 0 24 24\"\n",
              "       width=\"24px\">\n",
              "    <path d=\"M0 0h24v24H0V0z\" fill=\"none\"/>\n",
              "    <path d=\"M18.56 5.44l.94 2.06.94-2.06 2.06-.94-2.06-.94-.94-2.06-.94 2.06-2.06.94zm-11 1L8.5 8.5l.94-2.06 2.06-.94-2.06-.94L8.5 2.5l-.94 2.06-2.06.94zm10 10l.94 2.06.94-2.06 2.06-.94-2.06-.94-.94-2.06-.94 2.06-2.06.94z\"/><path d=\"M17.41 7.96l-1.37-1.37c-.4-.4-.92-.59-1.43-.59-.52 0-1.04.2-1.43.59L10.3 9.45l-7.72 7.72c-.78.78-.78 2.05 0 2.83L4 21.41c.39.39.9.59 1.41.59.51 0 1.02-.2 1.41-.59l7.78-7.78 2.81-2.81c.8-.78.8-2.07 0-2.86zM5.41 20L4 18.59l7.72-7.72 1.47 1.35L5.41 20z\"/>\n",
              "  </svg>\n",
              "      </button>\n",
              "      \n",
              "  <style>\n",
              "    .colab-df-container {\n",
              "      display:flex;\n",
              "      flex-wrap:wrap;\n",
              "      gap: 12px;\n",
              "    }\n",
              "\n",
              "    .colab-df-convert {\n",
              "      background-color: #E8F0FE;\n",
              "      border: none;\n",
              "      border-radius: 50%;\n",
              "      cursor: pointer;\n",
              "      display: none;\n",
              "      fill: #1967D2;\n",
              "      height: 32px;\n",
              "      padding: 0 0 0 0;\n",
              "      width: 32px;\n",
              "    }\n",
              "\n",
              "    .colab-df-convert:hover {\n",
              "      background-color: #E2EBFA;\n",
              "      box-shadow: 0px 1px 2px rgba(60, 64, 67, 0.3), 0px 1px 3px 1px rgba(60, 64, 67, 0.15);\n",
              "      fill: #174EA6;\n",
              "    }\n",
              "\n",
              "    [theme=dark] .colab-df-convert {\n",
              "      background-color: #3B4455;\n",
              "      fill: #D2E3FC;\n",
              "    }\n",
              "\n",
              "    [theme=dark] .colab-df-convert:hover {\n",
              "      background-color: #434B5C;\n",
              "      box-shadow: 0px 1px 3px 1px rgba(0, 0, 0, 0.15);\n",
              "      filter: drop-shadow(0px 1px 2px rgba(0, 0, 0, 0.3));\n",
              "      fill: #FFFFFF;\n",
              "    }\n",
              "  </style>\n",
              "\n",
              "      <script>\n",
              "        const buttonEl =\n",
              "          document.querySelector('#df-27682ccb-59bf-49bc-92c8-87363d537e1b button.colab-df-convert');\n",
              "        buttonEl.style.display =\n",
              "          google.colab.kernel.accessAllowed ? 'block' : 'none';\n",
              "\n",
              "        async function convertToInteractive(key) {\n",
              "          const element = document.querySelector('#df-27682ccb-59bf-49bc-92c8-87363d537e1b');\n",
              "          const dataTable =\n",
              "            await google.colab.kernel.invokeFunction('convertToInteractive',\n",
              "                                                     [key], {});\n",
              "          if (!dataTable) return;\n",
              "\n",
              "          const docLinkHtml = 'Like what you see? Visit the ' +\n",
              "            '<a target=\"_blank\" href=https://colab.research.google.com/notebooks/data_table.ipynb>data table notebook</a>'\n",
              "            + ' to learn more about interactive tables.';\n",
              "          element.innerHTML = '';\n",
              "          dataTable['output_type'] = 'display_data';\n",
              "          await google.colab.output.renderOutput(dataTable, element);\n",
              "          const docLink = document.createElement('div');\n",
              "          docLink.innerHTML = docLinkHtml;\n",
              "          element.appendChild(docLink);\n",
              "        }\n",
              "      </script>\n",
              "    </div>\n",
              "  </div>\n",
              "  "
            ],
            "text/plain": [
              "      movieId  tagId  relevance\n",
              "1035        1   1036    0.99925\n",
              "243         1    244    0.99875\n",
              "785         1    786    0.99575\n",
              "588         1    589    0.98575\n",
              "63          1     64    0.98425"
            ]
          },
          "metadata": {},
          "execution_count": 19
        }
      ],
      "source": [
        "#look for the highest related tag\n",
        "AllMovieScores = scores[scores['movieId']==movieID]\n",
        "AllMovieScores.sort_values(by=['relevance'],ascending=False, inplace=True)\n",
        "AllMovieScores.head()\n"
      ]
    },
    {
      "cell_type": "code",
      "execution_count": 20,
      "metadata": {
        "id": "rCjVrmFh6WrH",
        "outputId": "29c0fae9-729d-431b-c7e2-6d6ad88d5d70",
        "colab": {
          "base_uri": "https://localhost:8080/",
          "height": 423
        }
      },
      "outputs": [
        {
          "output_type": "execute_result",
          "data": {
            "text/html": [
              "\n",
              "  <div id=\"df-f3e8abd7-a901-4df5-b2ce-5742d668a26c\">\n",
              "    <div class=\"colab-df-container\">\n",
              "      <div>\n",
              "<style scoped>\n",
              "    .dataframe tbody tr th:only-of-type {\n",
              "        vertical-align: middle;\n",
              "    }\n",
              "\n",
              "    .dataframe tbody tr th {\n",
              "        vertical-align: top;\n",
              "    }\n",
              "\n",
              "    .dataframe thead th {\n",
              "        text-align: right;\n",
              "    }\n",
              "</style>\n",
              "<table border=\"1\" class=\"dataframe\">\n",
              "  <thead>\n",
              "    <tr style=\"text-align: right;\">\n",
              "      <th></th>\n",
              "      <th>userId</th>\n",
              "      <th>movieId</th>\n",
              "      <th>rating</th>\n",
              "    </tr>\n",
              "  </thead>\n",
              "  <tbody>\n",
              "    <tr>\n",
              "      <th>70</th>\n",
              "      <td>2</td>\n",
              "      <td>1</td>\n",
              "      <td>3.5</td>\n",
              "    </tr>\n",
              "    <tr>\n",
              "      <th>254</th>\n",
              "      <td>3</td>\n",
              "      <td>1</td>\n",
              "      <td>4.0</td>\n",
              "    </tr>\n",
              "    <tr>\n",
              "      <th>910</th>\n",
              "      <td>4</td>\n",
              "      <td>1</td>\n",
              "      <td>3.0</td>\n",
              "    </tr>\n",
              "    <tr>\n",
              "      <th>1152</th>\n",
              "      <td>5</td>\n",
              "      <td>1</td>\n",
              "      <td>4.0</td>\n",
              "    </tr>\n",
              "    <tr>\n",
              "      <th>1304</th>\n",
              "      <td>8</td>\n",
              "      <td>1</td>\n",
              "      <td>4.0</td>\n",
              "    </tr>\n",
              "    <tr>\n",
              "      <th>...</th>\n",
              "      <td>...</td>\n",
              "      <td>...</td>\n",
              "      <td>...</td>\n",
              "    </tr>\n",
              "    <tr>\n",
              "      <th>24997918</th>\n",
              "      <td>162529</td>\n",
              "      <td>1</td>\n",
              "      <td>2.0</td>\n",
              "    </tr>\n",
              "    <tr>\n",
              "      <th>24998300</th>\n",
              "      <td>162530</td>\n",
              "      <td>1</td>\n",
              "      <td>5.0</td>\n",
              "    </tr>\n",
              "    <tr>\n",
              "      <th>24998525</th>\n",
              "      <td>162533</td>\n",
              "      <td>1</td>\n",
              "      <td>4.5</td>\n",
              "    </tr>\n",
              "    <tr>\n",
              "      <th>24998892</th>\n",
              "      <td>162534</td>\n",
              "      <td>1</td>\n",
              "      <td>4.0</td>\n",
              "    </tr>\n",
              "    <tr>\n",
              "      <th>24999624</th>\n",
              "      <td>162538</td>\n",
              "      <td>1</td>\n",
              "      <td>2.0</td>\n",
              "    </tr>\n",
              "  </tbody>\n",
              "</table>\n",
              "<p>57309 rows × 3 columns</p>\n",
              "</div>\n",
              "      <button class=\"colab-df-convert\" onclick=\"convertToInteractive('df-f3e8abd7-a901-4df5-b2ce-5742d668a26c')\"\n",
              "              title=\"Convert this dataframe to an interactive table.\"\n",
              "              style=\"display:none;\">\n",
              "        \n",
              "  <svg xmlns=\"http://www.w3.org/2000/svg\" height=\"24px\"viewBox=\"0 0 24 24\"\n",
              "       width=\"24px\">\n",
              "    <path d=\"M0 0h24v24H0V0z\" fill=\"none\"/>\n",
              "    <path d=\"M18.56 5.44l.94 2.06.94-2.06 2.06-.94-2.06-.94-.94-2.06-.94 2.06-2.06.94zm-11 1L8.5 8.5l.94-2.06 2.06-.94-2.06-.94L8.5 2.5l-.94 2.06-2.06.94zm10 10l.94 2.06.94-2.06 2.06-.94-2.06-.94-.94-2.06-.94 2.06-2.06.94z\"/><path d=\"M17.41 7.96l-1.37-1.37c-.4-.4-.92-.59-1.43-.59-.52 0-1.04.2-1.43.59L10.3 9.45l-7.72 7.72c-.78.78-.78 2.05 0 2.83L4 21.41c.39.39.9.59 1.41.59.51 0 1.02-.2 1.41-.59l7.78-7.78 2.81-2.81c.8-.78.8-2.07 0-2.86zM5.41 20L4 18.59l7.72-7.72 1.47 1.35L5.41 20z\"/>\n",
              "  </svg>\n",
              "      </button>\n",
              "      \n",
              "  <style>\n",
              "    .colab-df-container {\n",
              "      display:flex;\n",
              "      flex-wrap:wrap;\n",
              "      gap: 12px;\n",
              "    }\n",
              "\n",
              "    .colab-df-convert {\n",
              "      background-color: #E8F0FE;\n",
              "      border: none;\n",
              "      border-radius: 50%;\n",
              "      cursor: pointer;\n",
              "      display: none;\n",
              "      fill: #1967D2;\n",
              "      height: 32px;\n",
              "      padding: 0 0 0 0;\n",
              "      width: 32px;\n",
              "    }\n",
              "\n",
              "    .colab-df-convert:hover {\n",
              "      background-color: #E2EBFA;\n",
              "      box-shadow: 0px 1px 2px rgba(60, 64, 67, 0.3), 0px 1px 3px 1px rgba(60, 64, 67, 0.15);\n",
              "      fill: #174EA6;\n",
              "    }\n",
              "\n",
              "    [theme=dark] .colab-df-convert {\n",
              "      background-color: #3B4455;\n",
              "      fill: #D2E3FC;\n",
              "    }\n",
              "\n",
              "    [theme=dark] .colab-df-convert:hover {\n",
              "      background-color: #434B5C;\n",
              "      box-shadow: 0px 1px 3px 1px rgba(0, 0, 0, 0.15);\n",
              "      filter: drop-shadow(0px 1px 2px rgba(0, 0, 0, 0.3));\n",
              "      fill: #FFFFFF;\n",
              "    }\n",
              "  </style>\n",
              "\n",
              "      <script>\n",
              "        const buttonEl =\n",
              "          document.querySelector('#df-f3e8abd7-a901-4df5-b2ce-5742d668a26c button.colab-df-convert');\n",
              "        buttonEl.style.display =\n",
              "          google.colab.kernel.accessAllowed ? 'block' : 'none';\n",
              "\n",
              "        async function convertToInteractive(key) {\n",
              "          const element = document.querySelector('#df-f3e8abd7-a901-4df5-b2ce-5742d668a26c');\n",
              "          const dataTable =\n",
              "            await google.colab.kernel.invokeFunction('convertToInteractive',\n",
              "                                                     [key], {});\n",
              "          if (!dataTable) return;\n",
              "\n",
              "          const docLinkHtml = 'Like what you see? Visit the ' +\n",
              "            '<a target=\"_blank\" href=https://colab.research.google.com/notebooks/data_table.ipynb>data table notebook</a>'\n",
              "            + ' to learn more about interactive tables.';\n",
              "          element.innerHTML = '';\n",
              "          dataTable['output_type'] = 'display_data';\n",
              "          await google.colab.output.renderOutput(dataTable, element);\n",
              "          const docLink = document.createElement('div');\n",
              "          docLink.innerHTML = docLinkHtml;\n",
              "          element.appendChild(docLink);\n",
              "        }\n",
              "      </script>\n",
              "    </div>\n",
              "  </div>\n",
              "  "
            ],
            "text/plain": [
              "          userId  movieId  rating\n",
              "70             2        1     3.5\n",
              "254            3        1     4.0\n",
              "910            4        1     3.0\n",
              "1152           5        1     4.0\n",
              "1304           8        1     4.0\n",
              "...          ...      ...     ...\n",
              "24997918  162529        1     2.0\n",
              "24998300  162530        1     5.0\n",
              "24998525  162533        1     4.5\n",
              "24998892  162534        1     4.0\n",
              "24999624  162538        1     2.0\n",
              "\n",
              "[57309 rows x 3 columns]"
            ]
          },
          "metadata": {},
          "execution_count": 20
        }
      ],
      "source": [
        "# who also likes the movie ?\n",
        "UsersWhoWatched = ratings[ratings['movieId']==movieID]\n",
        "UsersWhoWatched"
      ]
    },
    {
      "cell_type": "markdown",
      "metadata": {
        "id": "XOIR6HB-6WrI"
      },
      "source": [
        "# Model- based collabrative filtering\n",
        "# ALS - Alternating Least Square "
      ]
    },
    {
      "cell_type": "markdown",
      "source": [
        "splitting the data"
      ],
      "metadata": {
        "id": "PJGjXtBMtaSA"
      }
    },
    {
      "cell_type": "code",
      "execution_count": 52,
      "metadata": {
        "id": "E9djSfw66WrI"
      },
      "outputs": [],
      "source": [
        "y = ratings[\"userId\"]\n",
        "train_strat, test_strat = train_test_split(ratings, train_size=0.60, random_state=123)"
      ]
    },
    {
      "cell_type": "markdown",
      "source": [
        "convert into matrises as ALS model input"
      ],
      "metadata": {
        "id": "95vhKw8Ttg8j"
      }
    },
    {
      "cell_type": "code",
      "execution_count": 54,
      "metadata": {
        "id": "W1vpYPS46WrJ"
      },
      "outputs": [],
      "source": [
        "#smaller train matrices \n",
        "sparse_movie_user = sparse.csr_matrix((train_strat['rating'].astype(float), (train_strat['movieId'], train_strat['userId'])))\n",
        "sparse_user_movie = sparse.csr_matrix((train_strat['rating'].astype(float), (train_strat['userId'], train_strat['movieId'])))"
      ]
    },
    {
      "cell_type": "code",
      "execution_count": 24,
      "metadata": {
        "id": "efEKfkYX6WrJ"
      },
      "outputs": [],
      "source": [
        "#os.environ['MKL_NUM_THREADS'] = '1'"
      ]
    },
    {
      "cell_type": "code",
      "execution_count": 55,
      "metadata": {
        "id": "ucz0hSRy6WrK",
        "outputId": "e28fee46-6ada-46e2-aadd-1b4e2c3ab386",
        "colab": {
          "base_uri": "https://localhost:8080/",
          "height": 49,
          "referenced_widgets": [
            "bd44a384cf394afbb2d1467c361cf0bb",
            "fb7dbadbf300480499d97961546cc49f",
            "2bbb948a53a84234bc658022a379572e",
            "a2fe75b5b2f84edfa0b161fc9041a6d3",
            "0e741dd982c44ddd9c73d6a17062039d",
            "ac86f461ccc4440b9d27add68462c959",
            "de0b0359706e4a5abf1e88d5e97fab3a",
            "43b7492e76f2492383b80ee9fbb5c631",
            "e7e3f15ea43f4809b5ecaacf908c4c39",
            "1f763fca828b4d428a9d0d9a5686e820",
            "6f670ef67b454b5babccb746a420bd7a"
          ]
        }
      },
      "outputs": [
        {
          "output_type": "display_data",
          "data": {
            "application/vnd.jupyter.widget-view+json": {
              "model_id": "bd44a384cf394afbb2d1467c361cf0bb",
              "version_minor": 0,
              "version_major": 2
            },
            "text/plain": [
              "  0%|          | 0/20 [00:00<?, ?it/s]"
            ]
          },
          "metadata": {}
        }
      ],
      "source": [
        "#Building the model\n",
        "model = implicit.gpu.als.AlternatingLeastSquares(regularization=0.03, iterations=40)\n",
        "alpha_val = 2\n",
        "data_conf = (sparse_user_movie * alpha_val).astype('double')\n",
        "model.fit(data_conf)"
      ]
    },
    {
      "cell_type": "code",
      "execution_count": 96,
      "metadata": {
        "id": "jQ9k_s_K6WrL"
      },
      "outputs": [],
      "source": [
        "#Get Recommendations\n",
        "# returns 2 variables: ids, scores\n",
        "user_id =[1,100,200,500]\n",
        "def ALSrecommendations(user_id):\n",
        "  return model.recommend(user_id, sparse_user_movie[user_id],N=10)\n"
      ]
    },
    {
      "cell_type": "markdown",
      "source": [
        "function to retrive the movies names from list of ids :"
      ],
      "metadata": {
        "id": "njRnyYUnt1DS"
      }
    },
    {
      "cell_type": "code",
      "execution_count": 57,
      "metadata": {
        "id": "njz9UH2U6WrL"
      },
      "outputs": [],
      "source": [
        "def findMoviesName(idList):\n",
        "    listofmovies = pd.DataFrame()\n",
        "    idList = idList.tolist()\n",
        "    for id in idList:\n",
        "        listofmovies = listofmovies.append(movies[movies['movieId']==id], ignore_index = False)\n",
        "\n",
        "    return listofmovies"
      ]
    },
    {
      "cell_type": "markdown",
      "source": [
        "fuction to join movies and ratings dataframes :"
      ],
      "metadata": {
        "id": "Tr8Y98c5t-9T"
      }
    },
    {
      "cell_type": "code",
      "execution_count": 58,
      "metadata": {
        "id": "HjFfRc2r6WrM"
      },
      "outputs": [],
      "source": [
        "def joinRatingswithMovies(ratingList):\n",
        "    return pd.merge(ratingList,movies,on='movieId')\n"
      ]
    },
    {
      "cell_type": "markdown",
      "source": [
        "function to get the movies that atr in ratings"
      ],
      "metadata": {
        "id": "gIYupKM3uGCl"
      }
    },
    {
      "cell_type": "code",
      "execution_count": 59,
      "metadata": {
        "id": "TqxvIIBW6WrM"
      },
      "outputs": [],
      "source": [
        "def ratingsToMovies(ratingsList):\n",
        "    movieslist = pd.DataFrame()\n",
        "    for index, row in ratingsList.iterrows():\n",
        "        movieslist = movieslist.append(movies[movies['movieId'] == row['movieId']], ignore_index = True)\n",
        "    return movieslist"
      ]
    },
    {
      "cell_type": "markdown",
      "metadata": {
        "id": "VMSQGj8a6WrO"
      },
      "source": [
        "\n",
        "\n",
        "# Memory-based content filtering"
      ]
    },
    {
      "cell_type": "markdown",
      "source": [
        "function used to minimize the tags and remove redundent :"
      ],
      "metadata": {
        "id": "rwnQJSQruPoe"
      }
    },
    {
      "cell_type": "code",
      "execution_count": 60,
      "metadata": {
        "id": "HMUaQbsm6WrP"
      },
      "outputs": [],
      "source": [
        "\n",
        "def deleteTags(ListoftagsIds,scores):\n",
        "    TagOnly = scores\n",
        "    #find each movie\n",
        "    for id in ListoftagsIds:\n",
        "        TagOnly=TagOnly[TagOnly['tagId']!=id]\n",
        "    return TagOnly"
      ]
    },
    {
      "cell_type": "markdown",
      "source": [
        "deleting tags for the memory- based model"
      ],
      "metadata": {
        "id": "8S0rqI5huaom"
      }
    },
    {
      "cell_type": "code",
      "execution_count": 61,
      "metadata": {
        "id": "V19O_dpl6WrP"
      },
      "outputs": [],
      "source": [
        "# 9,1980s + 13,80s \n",
        "#15,aardman + 16,aardman studios\n",
        "#22,adapted from:book + 107,based on a book + 113,based on book + 152,book + 153,book was better\n",
        "#23,adapted from:comic + 108,based on a comic + 114,based on comic + 231,comic + 232,comic book + 233,comic book adaption + 234,comics + 290,dc comics\n",
        "TagOnly = deleteTags([13,16,107,113,152,153,108,114,231,232,233,234,290],scores)\n",
        "#24,adapted from:game + 112,based on a video game + 245,computer game + 1074,video game + 1075,video game adaptation + 1076,video games + 1077,videogame\n",
        "#43,alien + 44,alien invasion + 45,aliens\n",
        "#59,android(s)/cyborg(s) + 60,androids\n",
        "#886,sci fi + 887,sci-fi + 888,science + 889,science fiction + 890,scifi + 891,scifi cult\n",
        "TagOnly = deleteTags([112,245,1074,1075,1076,1077,44,45,60,887,888,889,890,891],TagOnly)\n",
        "\n",
        "#61,animal movie + 62,animals + 316,dog + 317,dogs + 318,dolphins + 783,pigs\n",
        "\n",
        "#63,animated + 64,animation + 65,anime + 244,computer animation + 310,disney animated feature\n",
        "\n",
        "#75,art + 78,artist + 79,artistic\n",
        "\n",
        "#81,assassin + 82,assassination + 83,assassins\n",
        "\n",
        "#87,australia + 88,australian\n",
        "\n",
        "#115,based on true story + 110,based on a true story + 1047,true story\n",
        "\n",
        "#1013,teen + 1014,teen movie + 1015,teenager + 1016,teenagers + 1017,teens\n",
        "\n",
        "#127,best war films + 1096,war + 1097,war movie + 1098,wartime\n",
        "\n",
        "#133,biographical + 134,biography\n",
        "\n",
        "#141,black comedy + 286,dark comedy + 289,dark humor\n",
        "\n",
        "#145,blood + 146,bloody\n",
        "\n",
        "#798,political + 799,political corruption + 800,politics + 1119,world politics\n",
        "\n",
        "#155,boring + 156,boring!\n",
        "\n",
        "#176,camp + 177,campy\n",
        "\n",
        "#208,christian + 209,christianity\n",
        "\n",
        "#220,clever + 992,suprisingly clever + 550,intellectual + 551,intelligent + 552,intelligent sci-fi + 430,genius\n",
        "\n",
        "#221,clones + 222,cloning\n",
        "\n",
        "#235,coming of age + 236,coming-of-age\n",
        "\n",
        "#240,complex + 242,complicated\n",
        "\n",
        "#261,court + 262,courtroom + 263,courtroom drama\n",
        "\n",
        "#278,cute + 279,cute!\n",
        "\n",
        "# 283,dance + 284,dancing\n",
        "\n",
        "#296,depressing + 297,depression\n",
        "\n",
        "#323,drama + 324,dramatic + 376,family drama\n",
        "\n",
        "#357,environment + 358,environmental\n",
        "\n",
        "#371,fairy tale + 372,fairy tales\n",
        "\n",
        "#384,father son relationship + 385,father-son relationship\n",
        "\n",
        "#377,fantasy + 378,fantasy world\n",
        "\n",
        "#387,feel good movie + 388,feel-good\n",
        "\n",
        "#435,ghosts + 436,ghosts/afterlife + 35,afterlife\n",
        "#389,fight scenes + 390,fighting\n",
        "\n",
        "#684,music + 685,music business + 686,musical + 687,musicians\n",
        "\n",
        "#329,drug abuse + 330,drug addiction + 331,drugs + 499,heroin + 500,heroine + 501,heroine in tight suit\n",
        "\n",
        "#548,inspirational + 549,inspiring\n",
        "\n",
        "#696,nazi + 697,nazis + 698,neil gaiman + 699,neo-nazis\n",
        "\n",
        "#905,sex + 907,sexual + 909,sexuality + 911,sexy\n",
        "\n",
        "#908,sexual abuse + 910,sexualized violence\n",
        "\n",
        "#789,plot twist + 1049,twist + 1050,twist ending + 1051,twists & turns\n",
        "\n",
        "#987,super hero + 988,super-hero + 989,superhero + 990,superheroes + 991,supernatural\n",
        "\n",
        "#725,nudity + 726,nudity (full frontal - brief) + 727,nudity (full frontal - notable) + 728,nudity (full frontal) + 729,nudity (rear) + 730,nudity (topless - brief) + 731,nudity (topless - notable) + 732,nudity (topless)\n",
        "\n",
        "#414,fun + 415,fun movie + 416,funniest movies + 417,funny + 418,funny as hell + 1071,very funny + 1058,unintentionally funny + 933,so bad it's funny + 920,silly fun + 333,dumb but funny\n"
      ]
    },
    {
      "cell_type": "markdown",
      "source": [
        "merge tags, scores and movies in one dataFrame"
      ],
      "metadata": {
        "id": "Rq99zesuuqQA"
      }
    },
    {
      "cell_type": "code",
      "source": [
        "MovieTagsUnion = scores.merge(tags, on = 'tagId').merge(movies, on = 'movieId')"
      ],
      "metadata": {
        "id": "jpVMND9MhU46"
      },
      "execution_count": 63,
      "outputs": []
    },
    {
      "cell_type": "markdown",
      "source": [
        " rank based on tags"
      ],
      "metadata": {
        "id": "A0FsB0z6u5Rt"
      }
    },
    {
      "cell_type": "code",
      "source": [
        "MovieTagsUnion['relevance_rank'] = MovieTagsUnion.groupby(\"movieId\")[\"relevance\"].rank(method = \"first\", ascending = False).astype('int64')"
      ],
      "metadata": {
        "id": "IMewu8Ggu4XQ"
      },
      "execution_count": null,
      "outputs": []
    },
    {
      "cell_type": "markdown",
      "source": [
        "get a list of top 100 tags for each movie"
      ],
      "metadata": {
        "id": "Gn7lS76_vLMp"
      }
    },
    {
      "cell_type": "code",
      "source": [
        "mv_tags_list = MovieTagsUnion[MovieTagsUnion.relevance_rank <= 100].groupby(['movieId','title'])['tag'].apply(lambda x: ','.join(x)).reset_index()\n",
        "mv_tags_list['tag_list'] = mv_tags_list.tag.map(lambda x: x.split(','))"
      ],
      "metadata": {
        "id": "-IzlcZyog603"
      },
      "execution_count": 64,
      "outputs": []
    },
    {
      "cell_type": "markdown",
      "source": [
        "function to find movies similar to one movie"
      ],
      "metadata": {
        "id": "O2ohwRXBvN5_"
      }
    },
    {
      "cell_type": "code",
      "source": [
        "def findsimilarMovie(target_movie):\n",
        "  # compute Jaccard Index to get most similar movies to target movie\n",
        "  target_movieName=  mv_tags_list[mv_tags_list['movieId'] == target_movie]\n",
        "  similarList = pd.DataFrame()\n",
        "  if (len(target_movieName) != 0 ):\n",
        "    target_movieName = target_movieName['title'].values[0]\n",
        "    pd.reset_option('display.max_colwidth')\n",
        "    target_tag_list = mv_tags_list[mv_tags_list['movieId'] == target_movie].tag_list.values[0]\n",
        "    mv_tags_list_sim = mv_tags_list[['movieId','title','tag_list','tag']]\n",
        "    mv_tags_list_sim['jaccard_sim'] = mv_tags_list_sim.tag_list.map(lambda x: len(set(x).intersection(set(target_tag_list))) / len(set(x).union(set(target_tag_list))))\n",
        "    print(f'Movies most similar to {target_movieName} based on tags:')\n",
        "    text = ','.join(mv_tags_list_sim.sort_values(by = 'jaccard_sim', ascending = False).head(25)['tag'].values)\n",
        "    similarList = mv_tags_list_sim.sort_values(by = 'jaccard_sim', ascending = False).iloc[1:11]\n",
        "\n",
        "  return similarList"
      ],
      "metadata": {
        "id": "iRdjgctigoqN"
      },
      "execution_count": 65,
      "outputs": []
    },
    {
      "cell_type": "markdown",
      "source": [
        "find similar movies based on user likes "
      ],
      "metadata": {
        "id": "pPnuxnYWvVJj"
      }
    },
    {
      "cell_type": "code",
      "source": [
        "def findJaccardRecommendations(SingleuserId):\n",
        "  original =train_strat[train_strat['userId']==SingleuserId]['movieId'].tolist()\n",
        "  results =pd.DataFrame()\n",
        "  for movie in original:\n",
        "    results = pd.concat([results,findsimilarMovie(movie)], ignore_index=True)\n",
        "  results.sort_values(by = 'jaccard_sim', ascending = False, inplace = True , ignore_index=True)\n",
        "  return results.iloc[0:10]"
      ],
      "metadata": {
        "id": "FsvBysrtzr0g"
      },
      "execution_count": 66,
      "outputs": []
    },
    {
      "cell_type": "markdown",
      "source": [
        "## Merging the models"
      ],
      "metadata": {
        "id": "_9zGW4yOh5sz"
      }
    },
    {
      "cell_type": "code",
      "source": [
        "def HybridRecommenderSystem(userID):\n",
        "  jaccResults = findJaccardRecommendations(userID)['movieId'].tolist()\n",
        "  ids, ALS_scores = ALSrecommendations([userID])\n",
        "  # weighted selection\n",
        "  print(jaccResults)\n",
        "  Results = []\n",
        "  for i in range(0,5):\n",
        "    Results.append(jaccResults[i])\n",
        "    Results.append(ids[0][i])\n",
        "  return Results"
      ],
      "metadata": {
        "id": "SXNVXLJ_hw6C"
      },
      "execution_count": null,
      "outputs": []
    },
    {
      "cell_type": "markdown",
      "metadata": {
        "id": "jaVsEe_F6WrN"
      },
      "source": [
        "# Testing "
      ]
    },
    {
      "cell_type": "markdown",
      "source": [
        "for the evaluation, a baseline is considered, the baseline is a basic standard for what we expect from the recommender system\n",
        "\n",
        "The model is trying to be better compared to the baseline, there are 2 baselines:\n",
        "- random recommender : recommend based on random selection\n",
        "- popular recommender : recommend based on the most popular movies without personlization\n"
      ],
      "metadata": {
        "id": "FnPxwiqBcpQ3"
      }
    },
    {
      "cell_type": "markdown",
      "source": [
        "random recommender"
      ],
      "metadata": {
        "id": "fgVkwF-JxGzB"
      }
    },
    {
      "cell_type": "code",
      "source": [
        "baseline = []\n",
        "for i in range(1,5):\n",
        "    baseline.append(movies.sample(10)['movieId'].tolist())"
      ],
      "metadata": {
        "colab": {
          "base_uri": "https://localhost:8080/"
        },
        "id": "qNCuBaimKRuP",
        "outputId": "38ffdea5-0fbf-4bd7-d0a8-068d6e97f4d3"
      },
      "execution_count": 67,
      "outputs": [
        {
          "output_type": "execute_result",
          "data": {
            "text/plain": [
              "[[4847, 4485, 147, 27871, 161181, 70372, 200580, 178619, 153210, 113943],\n",
              " [95533, 100390, 201552, 179153, 198963, 174511, 164079, 156960, 7647, 163128],\n",
              " [144025, 178167, 85284, 134859, 3545, 180073, 133485, 179635, 192393, 40898],\n",
              " [79686, 181099, 3403, 139819, 1280, 203250, 2930, 203669, 122439, 164001]]"
            ]
          },
          "metadata": {},
          "execution_count": 67
        }
      ]
    },
    {
      "cell_type": "markdown",
      "source": [
        "popular recommender"
      ],
      "metadata": {
        "id": "KOFUwfiRxLFJ"
      }
    },
    {
      "cell_type": "code",
      "source": [
        "popular = ratings.movieId.value_counts().head(10).index.tolist()\n",
        "popular = [popular,popular,popular,popular]"
      ],
      "metadata": {
        "id": "7VAOUJhAqMyo"
      },
      "execution_count": 68,
      "outputs": []
    },
    {
      "cell_type": "markdown",
      "source": [
        "what the users actully like based on the test set"
      ],
      "metadata": {
        "id": "pLIoFyYaxPKo"
      }
    },
    {
      "cell_type": "code",
      "source": [
        "RealUserLikes = []\n",
        "for id in user_id :\n",
        "    RealUserLikes.append(ratingsToMovies(test_strat[test_strat['userId']==id])['movieId'].tolist())\n",
        "  "
      ],
      "metadata": {
        "id": "vPqRcRN3jwem"
      },
      "execution_count": 81,
      "outputs": []
    },
    {
      "cell_type": "markdown",
      "source": [
        "ALS model recommender"
      ],
      "metadata": {
        "id": "4TP6vjCSxV9N"
      }
    },
    {
      "cell_type": "code",
      "source": [
        "ALSmodel_ids,scores = ALSrecommendations(user_id)"
      ],
      "metadata": {
        "id": "ghzJiLaQmONw"
      },
      "execution_count": 114,
      "outputs": []
    },
    {
      "cell_type": "markdown",
      "source": [
        "Jaccard recommender"
      ],
      "metadata": {
        "id": "n3umOiAWxaxD"
      }
    },
    {
      "cell_type": "code",
      "source": [
        "JaccardListForAllUsers = []\n",
        "for id in user_id :\n",
        "    JaccardListForAllUsers.append(findJaccardRecommendations(id)['movieId'].tolist())"
      ],
      "metadata": {
        "id": "NoFIqMj_Q3Ar"
      },
      "execution_count": null,
      "outputs": []
    },
    {
      "cell_type": "markdown",
      "source": [
        "hybird recommender"
      ],
      "metadata": {
        "id": "0Xwpk9-fxg-k"
      }
    },
    {
      "cell_type": "code",
      "source": [
        "hybridModel = []\n",
        "for id in user_id :\n",
        "    hybridModel.append(HybridRecommenderSystem(id))"
      ],
      "metadata": {
        "id": "YfsLfI22mZeV"
      },
      "execution_count": null,
      "outputs": []
    },
    {
      "cell_type": "markdown",
      "source": [
        "## evalution matrises"
      ],
      "metadata": {
        "id": "XujZj-M2xmxC"
      }
    },
    {
      "cell_type": "markdown",
      "source": [
        "Mean average precision at k"
      ],
      "metadata": {
        "id": "pt1JX-cyhaUa"
      }
    },
    {
      "cell_type": "code",
      "source": [
        "metrics.mapk(RealUserLikes,baseline)"
      ],
      "metadata": {
        "colab": {
          "base_uri": "https://localhost:8080/"
        },
        "id": "yux8OK6ApuWt",
        "outputId": "949e21ed-c871-4406-ef63-c39a1bcaa39d"
      },
      "execution_count": 73,
      "outputs": [
        {
          "output_type": "execute_result",
          "data": {
            "text/plain": [
              "0.0"
            ]
          },
          "metadata": {},
          "execution_count": 73
        }
      ]
    },
    {
      "cell_type": "code",
      "source": [
        "metrics.mapk(RealUserLikes,popular)"
      ],
      "metadata": {
        "colab": {
          "base_uri": "https://localhost:8080/"
        },
        "id": "ispbHEj0u3N7",
        "outputId": "08e9f213-5352-47bd-8b70-05393e9a503b"
      },
      "execution_count": 74,
      "outputs": [
        {
          "output_type": "execute_result",
          "data": {
            "text/plain": [
              "0.027499999999999997"
            ]
          },
          "metadata": {},
          "execution_count": 74
        }
      ]
    },
    {
      "cell_type": "code",
      "source": [
        "metrics.mapk(RealUserLikes,ALSrecommendations)"
      ],
      "metadata": {
        "colab": {
          "base_uri": "https://localhost:8080/"
        },
        "id": "pkmAeRcPiz5C",
        "outputId": "87f81409-2d2a-4013-ab79-1fd260921271"
      },
      "execution_count": 82,
      "outputs": [
        {
          "output_type": "execute_result",
          "data": {
            "text/plain": [
              "0.20493055555555556"
            ]
          },
          "metadata": {},
          "execution_count": 82
        }
      ]
    },
    {
      "cell_type": "code",
      "source": [
        "metrics.mapk(RealUserLikes,JaccardListForAllUsers)"
      ],
      "metadata": {
        "colab": {
          "base_uri": "https://localhost:8080/"
        },
        "id": "yqhjr0d5Fmw0",
        "outputId": "8d73026f-9dc5-4b6f-8a69-a08cdb0da0fa"
      },
      "execution_count": 75,
      "outputs": [
        {
          "output_type": "execute_result",
          "data": {
            "text/plain": [
              "0.0225"
            ]
          },
          "metadata": {},
          "execution_count": 75
        }
      ]
    },
    {
      "cell_type": "code",
      "source": [
        "metrics.mapk(RealUserLikes,hybridModel)"
      ],
      "metadata": {
        "colab": {
          "base_uri": "https://localhost:8080/"
        },
        "id": "5CO9k2moqNHO",
        "outputId": "2b49b2c4-9dd1-462c-fbfd-e893babf082d"
      },
      "execution_count": 110,
      "outputs": [
        {
          "output_type": "execute_result",
          "data": {
            "text/plain": [
              "0.08055555555555555"
            ]
          },
          "metadata": {},
          "execution_count": 110
        }
      ]
    },
    {
      "cell_type": "markdown",
      "source": [
        "Mean average recall at k"
      ],
      "metadata": {
        "id": "HA7rwVCGhRQN"
      }
    },
    {
      "cell_type": "code",
      "source": [
        "random_mark = []\n",
        "for K in np.arange(1, 11):\n",
        "    random_mark.extend([recmetrics.mark(RealUserLikes,baseline, k=K)])\n",
        "random_mark"
      ],
      "metadata": {
        "colab": {
          "base_uri": "https://localhost:8080/"
        },
        "id": "XZdK-4WXdtjW",
        "outputId": "fe95eac9-a6c3-4322-9ea3-310b7e15ea50"
      },
      "execution_count": 76,
      "outputs": [
        {
          "output_type": "execute_result",
          "data": {
            "text/plain": [
              "[0.0, 0.0, 0.0, 0.0, 0.0, 0.0, 0.0, 0.0, 0.0, 0.0]"
            ]
          },
          "metadata": {},
          "execution_count": 76
        }
      ]
    },
    {
      "cell_type": "code",
      "source": [
        "pop_mark = []\n",
        "for K in np.arange(1, 11):\n",
        "    pop_mark.extend([recmetrics.mark(RealUserLikes, popular, k=K)])\n",
        "pop_mark"
      ],
      "metadata": {
        "colab": {
          "base_uri": "https://localhost:8080/"
        },
        "id": "ORz-wHsIeajm",
        "outputId": "ef4a46ef-4804-4120-e4e9-2ab4a0956643"
      },
      "execution_count": 120,
      "outputs": [
        {
          "output_type": "execute_result",
          "data": {
            "text/plain": [
              "[0.0,\n",
              " 0.0,\n",
              " 0.0,\n",
              " 0.0,\n",
              " 0.0,\n",
              " 0.022435897435897436,\n",
              " 0.022435897435897436,\n",
              " 0.022435897435897436,\n",
              " 0.022435897435897436,\n",
              " 0.024935897435897435]"
            ]
          },
          "metadata": {},
          "execution_count": 120
        }
      ]
    },
    {
      "cell_type": "code",
      "source": [
        "model_mark = []\n",
        "for K in np.arange(1, 11):\n",
        "    model_mark.extend([recmetrics.mark(RealUserLikes, ALSmodel_ids, k=K)])\n",
        "model_mark"
      ],
      "metadata": {
        "colab": {
          "base_uri": "https://localhost:8080/"
        },
        "id": "pATOs2BkUXIs",
        "outputId": "a9160947-5323-4fde-9ab9-a73a8b1cafad"
      },
      "execution_count": 115,
      "outputs": [
        {
          "output_type": "execute_result",
          "data": {
            "text/plain": [
              "[0.009615384615384616,\n",
              " 0.019230769230769232,\n",
              " 0.03193257359924027,\n",
              " 0.04154795821462488,\n",
              " 0.0511633428300095,\n",
              " 0.060778727445394115,\n",
              " 0.060778727445394115,\n",
              " 0.06919218898385565,\n",
              " 0.0777391975308642,\n",
              " 0.0802391975308642]"
            ]
          },
          "metadata": {},
          "execution_count": 115
        }
      ]
    },
    {
      "cell_type": "code",
      "source": [
        "Jac_mark = []\n",
        "for K in np.arange(1, 11):\n",
        "    Jac_mark.extend([recmetrics.mark(RealUserLikes, JaccardListForAllUsers, k=K)])\n",
        "Jac_mark"
      ],
      "metadata": {
        "colab": {
          "base_uri": "https://localhost:8080/"
        },
        "id": "OyeTIkBvcqR3",
        "outputId": "1634766e-de59-4d3e-90d7-9294a96e7ba0"
      },
      "execution_count": 79,
      "outputs": [
        {
          "output_type": "execute_result",
          "data": {
            "text/plain": [
              "[0.0,\n",
              " 0.0125,\n",
              " 0.0125,\n",
              " 0.0125,\n",
              " 0.014351851851851852,\n",
              " 0.014351851851851852,\n",
              " 0.014351851851851852,\n",
              " 0.014351851851851852,\n",
              " 0.014351851851851852,\n",
              " 0.016203703703703706]"
            ]
          },
          "metadata": {},
          "execution_count": 79
        }
      ]
    }
  ],
  "metadata": {
    "interpreter": {
      "hash": "d4d1e4263499bec80672ea0156c357c1ee493ec2b1c70f0acce89fc37c4a6abe"
    },
    "kernelspec": {
      "display_name": "Python 3.9.7 ('base')",
      "language": "python",
      "name": "python3"
    },
    "language_info": {
      "codemirror_mode": {
        "name": "ipython",
        "version": 3
      },
      "file_extension": ".py",
      "mimetype": "text/x-python",
      "name": "python",
      "nbconvert_exporter": "python",
      "pygments_lexer": "ipython3",
      "version": "3.9.7"
    },
    "orig_nbformat": 4,
    "colab": {
      "name": "engine.ipynb",
      "provenance": [],
      "collapsed_sections": [],
      "machine_shape": "hm"
    },
    "widgets": {
      "application/vnd.jupyter.widget-state+json": {
        "bd44a384cf394afbb2d1467c361cf0bb": {
          "model_module": "@jupyter-widgets/controls",
          "model_name": "HBoxModel",
          "model_module_version": "1.5.0",
          "state": {
            "_view_name": "HBoxView",
            "_dom_classes": [],
            "_model_name": "HBoxModel",
            "_view_module": "@jupyter-widgets/controls",
            "_model_module_version": "1.5.0",
            "_view_count": null,
            "_view_module_version": "1.5.0",
            "box_style": "",
            "layout": "IPY_MODEL_fb7dbadbf300480499d97961546cc49f",
            "_model_module": "@jupyter-widgets/controls",
            "children": [
              "IPY_MODEL_2bbb948a53a84234bc658022a379572e",
              "IPY_MODEL_a2fe75b5b2f84edfa0b161fc9041a6d3",
              "IPY_MODEL_0e741dd982c44ddd9c73d6a17062039d"
            ]
          }
        },
        "fb7dbadbf300480499d97961546cc49f": {
          "model_module": "@jupyter-widgets/base",
          "model_name": "LayoutModel",
          "model_module_version": "1.2.0",
          "state": {
            "_view_name": "LayoutView",
            "grid_template_rows": null,
            "right": null,
            "justify_content": null,
            "_view_module": "@jupyter-widgets/base",
            "overflow": null,
            "_model_module_version": "1.2.0",
            "_view_count": null,
            "flex_flow": null,
            "width": null,
            "min_width": null,
            "border": null,
            "align_items": null,
            "bottom": null,
            "_model_module": "@jupyter-widgets/base",
            "top": null,
            "grid_column": null,
            "overflow_y": null,
            "overflow_x": null,
            "grid_auto_flow": null,
            "grid_area": null,
            "grid_template_columns": null,
            "flex": null,
            "_model_name": "LayoutModel",
            "justify_items": null,
            "grid_row": null,
            "max_height": null,
            "align_content": null,
            "visibility": null,
            "align_self": null,
            "height": null,
            "min_height": null,
            "padding": null,
            "grid_auto_rows": null,
            "grid_gap": null,
            "max_width": null,
            "order": null,
            "_view_module_version": "1.2.0",
            "grid_template_areas": null,
            "object_position": null,
            "object_fit": null,
            "grid_auto_columns": null,
            "margin": null,
            "display": null,
            "left": null
          }
        },
        "2bbb948a53a84234bc658022a379572e": {
          "model_module": "@jupyter-widgets/controls",
          "model_name": "HTMLModel",
          "model_module_version": "1.5.0",
          "state": {
            "_view_name": "HTMLView",
            "style": "IPY_MODEL_ac86f461ccc4440b9d27add68462c959",
            "_dom_classes": [],
            "description": "",
            "_model_name": "HTMLModel",
            "placeholder": "​",
            "_view_module": "@jupyter-widgets/controls",
            "_model_module_version": "1.5.0",
            "value": "100%",
            "_view_count": null,
            "_view_module_version": "1.5.0",
            "description_tooltip": null,
            "_model_module": "@jupyter-widgets/controls",
            "layout": "IPY_MODEL_de0b0359706e4a5abf1e88d5e97fab3a"
          }
        },
        "a2fe75b5b2f84edfa0b161fc9041a6d3": {
          "model_module": "@jupyter-widgets/controls",
          "model_name": "FloatProgressModel",
          "model_module_version": "1.5.0",
          "state": {
            "_view_name": "ProgressView",
            "style": "IPY_MODEL_43b7492e76f2492383b80ee9fbb5c631",
            "_dom_classes": [],
            "description": "",
            "_model_name": "FloatProgressModel",
            "bar_style": "success",
            "max": 20,
            "_view_module": "@jupyter-widgets/controls",
            "_model_module_version": "1.5.0",
            "value": 20,
            "_view_count": null,
            "_view_module_version": "1.5.0",
            "orientation": "horizontal",
            "min": 0,
            "description_tooltip": null,
            "_model_module": "@jupyter-widgets/controls",
            "layout": "IPY_MODEL_e7e3f15ea43f4809b5ecaacf908c4c39"
          }
        },
        "0e741dd982c44ddd9c73d6a17062039d": {
          "model_module": "@jupyter-widgets/controls",
          "model_name": "HTMLModel",
          "model_module_version": "1.5.0",
          "state": {
            "_view_name": "HTMLView",
            "style": "IPY_MODEL_1f763fca828b4d428a9d0d9a5686e820",
            "_dom_classes": [],
            "description": "",
            "_model_name": "HTMLModel",
            "placeholder": "​",
            "_view_module": "@jupyter-widgets/controls",
            "_model_module_version": "1.5.0",
            "value": " 20/20 [00:07&lt;00:00,  2.52it/s]",
            "_view_count": null,
            "_view_module_version": "1.5.0",
            "description_tooltip": null,
            "_model_module": "@jupyter-widgets/controls",
            "layout": "IPY_MODEL_6f670ef67b454b5babccb746a420bd7a"
          }
        },
        "ac86f461ccc4440b9d27add68462c959": {
          "model_module": "@jupyter-widgets/controls",
          "model_name": "DescriptionStyleModel",
          "model_module_version": "1.5.0",
          "state": {
            "_view_name": "StyleView",
            "_model_name": "DescriptionStyleModel",
            "description_width": "",
            "_view_module": "@jupyter-widgets/base",
            "_model_module_version": "1.5.0",
            "_view_count": null,
            "_view_module_version": "1.2.0",
            "_model_module": "@jupyter-widgets/controls"
          }
        },
        "de0b0359706e4a5abf1e88d5e97fab3a": {
          "model_module": "@jupyter-widgets/base",
          "model_name": "LayoutModel",
          "model_module_version": "1.2.0",
          "state": {
            "_view_name": "LayoutView",
            "grid_template_rows": null,
            "right": null,
            "justify_content": null,
            "_view_module": "@jupyter-widgets/base",
            "overflow": null,
            "_model_module_version": "1.2.0",
            "_view_count": null,
            "flex_flow": null,
            "width": null,
            "min_width": null,
            "border": null,
            "align_items": null,
            "bottom": null,
            "_model_module": "@jupyter-widgets/base",
            "top": null,
            "grid_column": null,
            "overflow_y": null,
            "overflow_x": null,
            "grid_auto_flow": null,
            "grid_area": null,
            "grid_template_columns": null,
            "flex": null,
            "_model_name": "LayoutModel",
            "justify_items": null,
            "grid_row": null,
            "max_height": null,
            "align_content": null,
            "visibility": null,
            "align_self": null,
            "height": null,
            "min_height": null,
            "padding": null,
            "grid_auto_rows": null,
            "grid_gap": null,
            "max_width": null,
            "order": null,
            "_view_module_version": "1.2.0",
            "grid_template_areas": null,
            "object_position": null,
            "object_fit": null,
            "grid_auto_columns": null,
            "margin": null,
            "display": null,
            "left": null
          }
        },
        "43b7492e76f2492383b80ee9fbb5c631": {
          "model_module": "@jupyter-widgets/controls",
          "model_name": "ProgressStyleModel",
          "model_module_version": "1.5.0",
          "state": {
            "_view_name": "StyleView",
            "_model_name": "ProgressStyleModel",
            "description_width": "",
            "_view_module": "@jupyter-widgets/base",
            "_model_module_version": "1.5.0",
            "_view_count": null,
            "_view_module_version": "1.2.0",
            "bar_color": null,
            "_model_module": "@jupyter-widgets/controls"
          }
        },
        "e7e3f15ea43f4809b5ecaacf908c4c39": {
          "model_module": "@jupyter-widgets/base",
          "model_name": "LayoutModel",
          "model_module_version": "1.2.0",
          "state": {
            "_view_name": "LayoutView",
            "grid_template_rows": null,
            "right": null,
            "justify_content": null,
            "_view_module": "@jupyter-widgets/base",
            "overflow": null,
            "_model_module_version": "1.2.0",
            "_view_count": null,
            "flex_flow": null,
            "width": null,
            "min_width": null,
            "border": null,
            "align_items": null,
            "bottom": null,
            "_model_module": "@jupyter-widgets/base",
            "top": null,
            "grid_column": null,
            "overflow_y": null,
            "overflow_x": null,
            "grid_auto_flow": null,
            "grid_area": null,
            "grid_template_columns": null,
            "flex": null,
            "_model_name": "LayoutModel",
            "justify_items": null,
            "grid_row": null,
            "max_height": null,
            "align_content": null,
            "visibility": null,
            "align_self": null,
            "height": null,
            "min_height": null,
            "padding": null,
            "grid_auto_rows": null,
            "grid_gap": null,
            "max_width": null,
            "order": null,
            "_view_module_version": "1.2.0",
            "grid_template_areas": null,
            "object_position": null,
            "object_fit": null,
            "grid_auto_columns": null,
            "margin": null,
            "display": null,
            "left": null
          }
        },
        "1f763fca828b4d428a9d0d9a5686e820": {
          "model_module": "@jupyter-widgets/controls",
          "model_name": "DescriptionStyleModel",
          "model_module_version": "1.5.0",
          "state": {
            "_view_name": "StyleView",
            "_model_name": "DescriptionStyleModel",
            "description_width": "",
            "_view_module": "@jupyter-widgets/base",
            "_model_module_version": "1.5.0",
            "_view_count": null,
            "_view_module_version": "1.2.0",
            "_model_module": "@jupyter-widgets/controls"
          }
        },
        "6f670ef67b454b5babccb746a420bd7a": {
          "model_module": "@jupyter-widgets/base",
          "model_name": "LayoutModel",
          "model_module_version": "1.2.0",
          "state": {
            "_view_name": "LayoutView",
            "grid_template_rows": null,
            "right": null,
            "justify_content": null,
            "_view_module": "@jupyter-widgets/base",
            "overflow": null,
            "_model_module_version": "1.2.0",
            "_view_count": null,
            "flex_flow": null,
            "width": null,
            "min_width": null,
            "border": null,
            "align_items": null,
            "bottom": null,
            "_model_module": "@jupyter-widgets/base",
            "top": null,
            "grid_column": null,
            "overflow_y": null,
            "overflow_x": null,
            "grid_auto_flow": null,
            "grid_area": null,
            "grid_template_columns": null,
            "flex": null,
            "_model_name": "LayoutModel",
            "justify_items": null,
            "grid_row": null,
            "max_height": null,
            "align_content": null,
            "visibility": null,
            "align_self": null,
            "height": null,
            "min_height": null,
            "padding": null,
            "grid_auto_rows": null,
            "grid_gap": null,
            "max_width": null,
            "order": null,
            "_view_module_version": "1.2.0",
            "grid_template_areas": null,
            "object_position": null,
            "object_fit": null,
            "grid_auto_columns": null,
            "margin": null,
            "display": null,
            "left": null
          }
        }
      }
    },
    "accelerator": "GPU"
  },
  "nbformat": 4,
  "nbformat_minor": 0
}